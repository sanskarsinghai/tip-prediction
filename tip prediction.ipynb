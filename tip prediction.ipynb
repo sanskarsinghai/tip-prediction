{
 "cells": [
  {
   "cell_type": "code",
   "execution_count": 490,
   "id": "4a108d80",
   "metadata": {},
   "outputs": [],
   "source": [
    "import pandas as pd\n",
    "from sklearn.preprocessing import LabelEncoder,OneHotEncoder\n",
    "import seaborn as sns\n",
    "import numpy as np\n",
    "from sklearn.metrics import mean_squared_error\n",
    "import matplotlib.pyplot as plt"
   ]
  },
  {
   "cell_type": "code",
   "execution_count": 491,
   "id": "017a5129",
   "metadata": {},
   "outputs": [],
   "source": [
    "df=pd.read_csv('tips.csv')"
   ]
  },
  {
   "cell_type": "code",
   "execution_count": 492,
   "id": "7fb752a3",
   "metadata": {
    "scrolled": true
   },
   "outputs": [
    {
     "data": {
      "text/html": [
       "<div>\n",
       "<style scoped>\n",
       "    .dataframe tbody tr th:only-of-type {\n",
       "        vertical-align: middle;\n",
       "    }\n",
       "\n",
       "    .dataframe tbody tr th {\n",
       "        vertical-align: top;\n",
       "    }\n",
       "\n",
       "    .dataframe thead th {\n",
       "        text-align: right;\n",
       "    }\n",
       "</style>\n",
       "<table border=\"1\" class=\"dataframe\">\n",
       "  <thead>\n",
       "    <tr style=\"text-align: right;\">\n",
       "      <th></th>\n",
       "      <th>total_bill</th>\n",
       "      <th>tip</th>\n",
       "      <th>sex</th>\n",
       "      <th>smoker</th>\n",
       "      <th>day</th>\n",
       "      <th>time</th>\n",
       "      <th>size</th>\n",
       "    </tr>\n",
       "  </thead>\n",
       "  <tbody>\n",
       "    <tr>\n",
       "      <th>0</th>\n",
       "      <td>16.99</td>\n",
       "      <td>1.01</td>\n",
       "      <td>Female</td>\n",
       "      <td>No</td>\n",
       "      <td>Sun</td>\n",
       "      <td>Dinner</td>\n",
       "      <td>2</td>\n",
       "    </tr>\n",
       "    <tr>\n",
       "      <th>1</th>\n",
       "      <td>10.34</td>\n",
       "      <td>1.66</td>\n",
       "      <td>Male</td>\n",
       "      <td>No</td>\n",
       "      <td>Sun</td>\n",
       "      <td>Dinner</td>\n",
       "      <td>3</td>\n",
       "    </tr>\n",
       "    <tr>\n",
       "      <th>2</th>\n",
       "      <td>21.01</td>\n",
       "      <td>3.50</td>\n",
       "      <td>Male</td>\n",
       "      <td>No</td>\n",
       "      <td>Sun</td>\n",
       "      <td>Dinner</td>\n",
       "      <td>3</td>\n",
       "    </tr>\n",
       "    <tr>\n",
       "      <th>3</th>\n",
       "      <td>23.68</td>\n",
       "      <td>3.31</td>\n",
       "      <td>Male</td>\n",
       "      <td>No</td>\n",
       "      <td>Sun</td>\n",
       "      <td>Dinner</td>\n",
       "      <td>2</td>\n",
       "    </tr>\n",
       "    <tr>\n",
       "      <th>4</th>\n",
       "      <td>24.59</td>\n",
       "      <td>3.61</td>\n",
       "      <td>Female</td>\n",
       "      <td>No</td>\n",
       "      <td>Sun</td>\n",
       "      <td>Dinner</td>\n",
       "      <td>4</td>\n",
       "    </tr>\n",
       "    <tr>\n",
       "      <th>...</th>\n",
       "      <td>...</td>\n",
       "      <td>...</td>\n",
       "      <td>...</td>\n",
       "      <td>...</td>\n",
       "      <td>...</td>\n",
       "      <td>...</td>\n",
       "      <td>...</td>\n",
       "    </tr>\n",
       "    <tr>\n",
       "      <th>239</th>\n",
       "      <td>29.03</td>\n",
       "      <td>5.92</td>\n",
       "      <td>Male</td>\n",
       "      <td>No</td>\n",
       "      <td>Sat</td>\n",
       "      <td>Dinner</td>\n",
       "      <td>3</td>\n",
       "    </tr>\n",
       "    <tr>\n",
       "      <th>240</th>\n",
       "      <td>27.18</td>\n",
       "      <td>2.00</td>\n",
       "      <td>Female</td>\n",
       "      <td>Yes</td>\n",
       "      <td>Sat</td>\n",
       "      <td>Dinner</td>\n",
       "      <td>2</td>\n",
       "    </tr>\n",
       "    <tr>\n",
       "      <th>241</th>\n",
       "      <td>22.67</td>\n",
       "      <td>2.00</td>\n",
       "      <td>Male</td>\n",
       "      <td>Yes</td>\n",
       "      <td>Sat</td>\n",
       "      <td>Dinner</td>\n",
       "      <td>2</td>\n",
       "    </tr>\n",
       "    <tr>\n",
       "      <th>242</th>\n",
       "      <td>17.82</td>\n",
       "      <td>1.75</td>\n",
       "      <td>Male</td>\n",
       "      <td>No</td>\n",
       "      <td>Sat</td>\n",
       "      <td>Dinner</td>\n",
       "      <td>2</td>\n",
       "    </tr>\n",
       "    <tr>\n",
       "      <th>243</th>\n",
       "      <td>18.78</td>\n",
       "      <td>3.00</td>\n",
       "      <td>Female</td>\n",
       "      <td>No</td>\n",
       "      <td>Thur</td>\n",
       "      <td>Dinner</td>\n",
       "      <td>2</td>\n",
       "    </tr>\n",
       "  </tbody>\n",
       "</table>\n",
       "<p>244 rows × 7 columns</p>\n",
       "</div>"
      ],
      "text/plain": [
       "     total_bill   tip     sex smoker   day    time  size\n",
       "0         16.99  1.01  Female     No   Sun  Dinner     2\n",
       "1         10.34  1.66    Male     No   Sun  Dinner     3\n",
       "2         21.01  3.50    Male     No   Sun  Dinner     3\n",
       "3         23.68  3.31    Male     No   Sun  Dinner     2\n",
       "4         24.59  3.61  Female     No   Sun  Dinner     4\n",
       "..          ...   ...     ...    ...   ...     ...   ...\n",
       "239       29.03  5.92    Male     No   Sat  Dinner     3\n",
       "240       27.18  2.00  Female    Yes   Sat  Dinner     2\n",
       "241       22.67  2.00    Male    Yes   Sat  Dinner     2\n",
       "242       17.82  1.75    Male     No   Sat  Dinner     2\n",
       "243       18.78  3.00  Female     No  Thur  Dinner     2\n",
       "\n",
       "[244 rows x 7 columns]"
      ]
     },
     "execution_count": 492,
     "metadata": {},
     "output_type": "execute_result"
    }
   ],
   "source": [
    "df"
   ]
  },
  {
   "cell_type": "code",
   "execution_count": null,
   "id": "74196b0f",
   "metadata": {},
   "outputs": [],
   "source": []
  },
  {
   "cell_type": "markdown",
   "id": "142cb110",
   "metadata": {},
   "source": [
    "# Data Analysis"
   ]
  },
  {
   "cell_type": "code",
   "execution_count": 493,
   "id": "d42065b5",
   "metadata": {},
   "outputs": [
    {
     "data": {
      "text/html": [
       "<div>\n",
       "<style scoped>\n",
       "    .dataframe tbody tr th:only-of-type {\n",
       "        vertical-align: middle;\n",
       "    }\n",
       "\n",
       "    .dataframe tbody tr th {\n",
       "        vertical-align: top;\n",
       "    }\n",
       "\n",
       "    .dataframe thead th {\n",
       "        text-align: right;\n",
       "    }\n",
       "</style>\n",
       "<table border=\"1\" class=\"dataframe\">\n",
       "  <thead>\n",
       "    <tr style=\"text-align: right;\">\n",
       "      <th></th>\n",
       "      <th>total_bill</th>\n",
       "      <th>tip</th>\n",
       "      <th>size</th>\n",
       "    </tr>\n",
       "  </thead>\n",
       "  <tbody>\n",
       "    <tr>\n",
       "      <th>count</th>\n",
       "      <td>244.000000</td>\n",
       "      <td>244.000000</td>\n",
       "      <td>244.000000</td>\n",
       "    </tr>\n",
       "    <tr>\n",
       "      <th>mean</th>\n",
       "      <td>19.785943</td>\n",
       "      <td>2.998279</td>\n",
       "      <td>2.569672</td>\n",
       "    </tr>\n",
       "    <tr>\n",
       "      <th>std</th>\n",
       "      <td>8.902412</td>\n",
       "      <td>1.383638</td>\n",
       "      <td>0.951100</td>\n",
       "    </tr>\n",
       "    <tr>\n",
       "      <th>min</th>\n",
       "      <td>3.070000</td>\n",
       "      <td>1.000000</td>\n",
       "      <td>1.000000</td>\n",
       "    </tr>\n",
       "    <tr>\n",
       "      <th>25%</th>\n",
       "      <td>13.347500</td>\n",
       "      <td>2.000000</td>\n",
       "      <td>2.000000</td>\n",
       "    </tr>\n",
       "    <tr>\n",
       "      <th>50%</th>\n",
       "      <td>17.795000</td>\n",
       "      <td>2.900000</td>\n",
       "      <td>2.000000</td>\n",
       "    </tr>\n",
       "    <tr>\n",
       "      <th>75%</th>\n",
       "      <td>24.127500</td>\n",
       "      <td>3.562500</td>\n",
       "      <td>3.000000</td>\n",
       "    </tr>\n",
       "    <tr>\n",
       "      <th>max</th>\n",
       "      <td>50.810000</td>\n",
       "      <td>10.000000</td>\n",
       "      <td>6.000000</td>\n",
       "    </tr>\n",
       "  </tbody>\n",
       "</table>\n",
       "</div>"
      ],
      "text/plain": [
       "       total_bill         tip        size\n",
       "count  244.000000  244.000000  244.000000\n",
       "mean    19.785943    2.998279    2.569672\n",
       "std      8.902412    1.383638    0.951100\n",
       "min      3.070000    1.000000    1.000000\n",
       "25%     13.347500    2.000000    2.000000\n",
       "50%     17.795000    2.900000    2.000000\n",
       "75%     24.127500    3.562500    3.000000\n",
       "max     50.810000   10.000000    6.000000"
      ]
     },
     "execution_count": 493,
     "metadata": {},
     "output_type": "execute_result"
    }
   ],
   "source": [
    "df.describe()"
   ]
  },
  {
   "cell_type": "code",
   "execution_count": 494,
   "id": "4638687c",
   "metadata": {},
   "outputs": [
    {
     "name": "stdout",
     "output_type": "stream",
     "text": [
      "<class 'pandas.core.frame.DataFrame'>\n",
      "RangeIndex: 244 entries, 0 to 243\n",
      "Data columns (total 7 columns):\n",
      " #   Column      Non-Null Count  Dtype  \n",
      "---  ------      --------------  -----  \n",
      " 0   total_bill  244 non-null    float64\n",
      " 1   tip         244 non-null    float64\n",
      " 2   sex         244 non-null    object \n",
      " 3   smoker      244 non-null    object \n",
      " 4   day         244 non-null    object \n",
      " 5   time        244 non-null    object \n",
      " 6   size        244 non-null    int64  \n",
      "dtypes: float64(2), int64(1), object(4)\n",
      "memory usage: 13.5+ KB\n"
     ]
    }
   ],
   "source": [
    "df.info()"
   ]
  },
  {
   "cell_type": "code",
   "execution_count": null,
   "id": "aff955f8",
   "metadata": {},
   "outputs": [],
   "source": []
  },
  {
   "cell_type": "code",
   "execution_count": 495,
   "id": "fdde279f",
   "metadata": {},
   "outputs": [
    {
     "data": {
      "text/html": [
       "<div>\n",
       "<style scoped>\n",
       "    .dataframe tbody tr th:only-of-type {\n",
       "        vertical-align: middle;\n",
       "    }\n",
       "\n",
       "    .dataframe tbody tr th {\n",
       "        vertical-align: top;\n",
       "    }\n",
       "\n",
       "    .dataframe thead th {\n",
       "        text-align: right;\n",
       "    }\n",
       "</style>\n",
       "<table border=\"1\" class=\"dataframe\">\n",
       "  <thead>\n",
       "    <tr style=\"text-align: right;\">\n",
       "      <th></th>\n",
       "      <th>total_bill</th>\n",
       "      <th>tip</th>\n",
       "      <th>sex</th>\n",
       "      <th>smoker</th>\n",
       "      <th>day</th>\n",
       "      <th>time</th>\n",
       "      <th>size</th>\n",
       "    </tr>\n",
       "  </thead>\n",
       "  <tbody>\n",
       "    <tr>\n",
       "      <th>0</th>\n",
       "      <td>False</td>\n",
       "      <td>False</td>\n",
       "      <td>False</td>\n",
       "      <td>False</td>\n",
       "      <td>False</td>\n",
       "      <td>False</td>\n",
       "      <td>False</td>\n",
       "    </tr>\n",
       "    <tr>\n",
       "      <th>1</th>\n",
       "      <td>False</td>\n",
       "      <td>False</td>\n",
       "      <td>False</td>\n",
       "      <td>False</td>\n",
       "      <td>False</td>\n",
       "      <td>False</td>\n",
       "      <td>False</td>\n",
       "    </tr>\n",
       "    <tr>\n",
       "      <th>2</th>\n",
       "      <td>False</td>\n",
       "      <td>False</td>\n",
       "      <td>False</td>\n",
       "      <td>False</td>\n",
       "      <td>False</td>\n",
       "      <td>False</td>\n",
       "      <td>False</td>\n",
       "    </tr>\n",
       "    <tr>\n",
       "      <th>3</th>\n",
       "      <td>False</td>\n",
       "      <td>False</td>\n",
       "      <td>False</td>\n",
       "      <td>False</td>\n",
       "      <td>False</td>\n",
       "      <td>False</td>\n",
       "      <td>False</td>\n",
       "    </tr>\n",
       "    <tr>\n",
       "      <th>4</th>\n",
       "      <td>False</td>\n",
       "      <td>False</td>\n",
       "      <td>False</td>\n",
       "      <td>False</td>\n",
       "      <td>False</td>\n",
       "      <td>False</td>\n",
       "      <td>False</td>\n",
       "    </tr>\n",
       "    <tr>\n",
       "      <th>...</th>\n",
       "      <td>...</td>\n",
       "      <td>...</td>\n",
       "      <td>...</td>\n",
       "      <td>...</td>\n",
       "      <td>...</td>\n",
       "      <td>...</td>\n",
       "      <td>...</td>\n",
       "    </tr>\n",
       "    <tr>\n",
       "      <th>239</th>\n",
       "      <td>False</td>\n",
       "      <td>False</td>\n",
       "      <td>False</td>\n",
       "      <td>False</td>\n",
       "      <td>False</td>\n",
       "      <td>False</td>\n",
       "      <td>False</td>\n",
       "    </tr>\n",
       "    <tr>\n",
       "      <th>240</th>\n",
       "      <td>False</td>\n",
       "      <td>False</td>\n",
       "      <td>False</td>\n",
       "      <td>False</td>\n",
       "      <td>False</td>\n",
       "      <td>False</td>\n",
       "      <td>False</td>\n",
       "    </tr>\n",
       "    <tr>\n",
       "      <th>241</th>\n",
       "      <td>False</td>\n",
       "      <td>False</td>\n",
       "      <td>False</td>\n",
       "      <td>False</td>\n",
       "      <td>False</td>\n",
       "      <td>False</td>\n",
       "      <td>False</td>\n",
       "    </tr>\n",
       "    <tr>\n",
       "      <th>242</th>\n",
       "      <td>False</td>\n",
       "      <td>False</td>\n",
       "      <td>False</td>\n",
       "      <td>False</td>\n",
       "      <td>False</td>\n",
       "      <td>False</td>\n",
       "      <td>False</td>\n",
       "    </tr>\n",
       "    <tr>\n",
       "      <th>243</th>\n",
       "      <td>False</td>\n",
       "      <td>False</td>\n",
       "      <td>False</td>\n",
       "      <td>False</td>\n",
       "      <td>False</td>\n",
       "      <td>False</td>\n",
       "      <td>False</td>\n",
       "    </tr>\n",
       "  </tbody>\n",
       "</table>\n",
       "<p>244 rows × 7 columns</p>\n",
       "</div>"
      ],
      "text/plain": [
       "     total_bill    tip    sex  smoker    day   time   size\n",
       "0         False  False  False   False  False  False  False\n",
       "1         False  False  False   False  False  False  False\n",
       "2         False  False  False   False  False  False  False\n",
       "3         False  False  False   False  False  False  False\n",
       "4         False  False  False   False  False  False  False\n",
       "..          ...    ...    ...     ...    ...    ...    ...\n",
       "239       False  False  False   False  False  False  False\n",
       "240       False  False  False   False  False  False  False\n",
       "241       False  False  False   False  False  False  False\n",
       "242       False  False  False   False  False  False  False\n",
       "243       False  False  False   False  False  False  False\n",
       "\n",
       "[244 rows x 7 columns]"
      ]
     },
     "execution_count": 495,
     "metadata": {},
     "output_type": "execute_result"
    }
   ],
   "source": [
    "df.isnull()"
   ]
  },
  {
   "cell_type": "code",
   "execution_count": 496,
   "id": "097dfee5",
   "metadata": {},
   "outputs": [
    {
     "data": {
      "text/plain": [
       "total_bill    0\n",
       "tip           0\n",
       "sex           0\n",
       "smoker        0\n",
       "day           0\n",
       "time          0\n",
       "size          0\n",
       "dtype: int64"
      ]
     },
     "execution_count": 496,
     "metadata": {},
     "output_type": "execute_result"
    }
   ],
   "source": [
    "df.isnull().sum()"
   ]
  },
  {
   "cell_type": "code",
   "execution_count": null,
   "id": "2b29ad44",
   "metadata": {},
   "outputs": [],
   "source": []
  },
  {
   "cell_type": "code",
   "execution_count": 497,
   "id": "f9252af4",
   "metadata": {},
   "outputs": [
    {
     "data": {
      "text/html": [
       "<div>\n",
       "<style scoped>\n",
       "    .dataframe tbody tr th:only-of-type {\n",
       "        vertical-align: middle;\n",
       "    }\n",
       "\n",
       "    .dataframe tbody tr th {\n",
       "        vertical-align: top;\n",
       "    }\n",
       "\n",
       "    .dataframe thead th {\n",
       "        text-align: right;\n",
       "    }\n",
       "</style>\n",
       "<table border=\"1\" class=\"dataframe\">\n",
       "  <thead>\n",
       "    <tr style=\"text-align: right;\">\n",
       "      <th></th>\n",
       "      <th>total_bill</th>\n",
       "      <th>tip</th>\n",
       "      <th>sex</th>\n",
       "      <th>smoker</th>\n",
       "      <th>day</th>\n",
       "      <th>time</th>\n",
       "      <th>size</th>\n",
       "    </tr>\n",
       "  </thead>\n",
       "  <tbody>\n",
       "    <tr>\n",
       "      <th>0</th>\n",
       "      <td>False</td>\n",
       "      <td>False</td>\n",
       "      <td>False</td>\n",
       "      <td>False</td>\n",
       "      <td>False</td>\n",
       "      <td>False</td>\n",
       "      <td>False</td>\n",
       "    </tr>\n",
       "    <tr>\n",
       "      <th>1</th>\n",
       "      <td>False</td>\n",
       "      <td>False</td>\n",
       "      <td>False</td>\n",
       "      <td>False</td>\n",
       "      <td>False</td>\n",
       "      <td>False</td>\n",
       "      <td>False</td>\n",
       "    </tr>\n",
       "    <tr>\n",
       "      <th>2</th>\n",
       "      <td>False</td>\n",
       "      <td>False</td>\n",
       "      <td>False</td>\n",
       "      <td>False</td>\n",
       "      <td>False</td>\n",
       "      <td>False</td>\n",
       "      <td>False</td>\n",
       "    </tr>\n",
       "    <tr>\n",
       "      <th>3</th>\n",
       "      <td>False</td>\n",
       "      <td>False</td>\n",
       "      <td>False</td>\n",
       "      <td>False</td>\n",
       "      <td>False</td>\n",
       "      <td>False</td>\n",
       "      <td>False</td>\n",
       "    </tr>\n",
       "    <tr>\n",
       "      <th>4</th>\n",
       "      <td>False</td>\n",
       "      <td>False</td>\n",
       "      <td>False</td>\n",
       "      <td>False</td>\n",
       "      <td>False</td>\n",
       "      <td>False</td>\n",
       "      <td>False</td>\n",
       "    </tr>\n",
       "    <tr>\n",
       "      <th>...</th>\n",
       "      <td>...</td>\n",
       "      <td>...</td>\n",
       "      <td>...</td>\n",
       "      <td>...</td>\n",
       "      <td>...</td>\n",
       "      <td>...</td>\n",
       "      <td>...</td>\n",
       "    </tr>\n",
       "    <tr>\n",
       "      <th>239</th>\n",
       "      <td>False</td>\n",
       "      <td>False</td>\n",
       "      <td>False</td>\n",
       "      <td>False</td>\n",
       "      <td>False</td>\n",
       "      <td>False</td>\n",
       "      <td>False</td>\n",
       "    </tr>\n",
       "    <tr>\n",
       "      <th>240</th>\n",
       "      <td>False</td>\n",
       "      <td>False</td>\n",
       "      <td>False</td>\n",
       "      <td>False</td>\n",
       "      <td>False</td>\n",
       "      <td>False</td>\n",
       "      <td>False</td>\n",
       "    </tr>\n",
       "    <tr>\n",
       "      <th>241</th>\n",
       "      <td>False</td>\n",
       "      <td>False</td>\n",
       "      <td>False</td>\n",
       "      <td>False</td>\n",
       "      <td>False</td>\n",
       "      <td>False</td>\n",
       "      <td>False</td>\n",
       "    </tr>\n",
       "    <tr>\n",
       "      <th>242</th>\n",
       "      <td>False</td>\n",
       "      <td>False</td>\n",
       "      <td>False</td>\n",
       "      <td>False</td>\n",
       "      <td>False</td>\n",
       "      <td>False</td>\n",
       "      <td>False</td>\n",
       "    </tr>\n",
       "    <tr>\n",
       "      <th>243</th>\n",
       "      <td>False</td>\n",
       "      <td>False</td>\n",
       "      <td>False</td>\n",
       "      <td>False</td>\n",
       "      <td>False</td>\n",
       "      <td>False</td>\n",
       "      <td>False</td>\n",
       "    </tr>\n",
       "  </tbody>\n",
       "</table>\n",
       "<p>244 rows × 7 columns</p>\n",
       "</div>"
      ],
      "text/plain": [
       "     total_bill    tip    sex  smoker    day   time   size\n",
       "0         False  False  False   False  False  False  False\n",
       "1         False  False  False   False  False  False  False\n",
       "2         False  False  False   False  False  False  False\n",
       "3         False  False  False   False  False  False  False\n",
       "4         False  False  False   False  False  False  False\n",
       "..          ...    ...    ...     ...    ...    ...    ...\n",
       "239       False  False  False   False  False  False  False\n",
       "240       False  False  False   False  False  False  False\n",
       "241       False  False  False   False  False  False  False\n",
       "242       False  False  False   False  False  False  False\n",
       "243       False  False  False   False  False  False  False\n",
       "\n",
       "[244 rows x 7 columns]"
      ]
     },
     "execution_count": 497,
     "metadata": {},
     "output_type": "execute_result"
    }
   ],
   "source": [
    "df.isna()"
   ]
  },
  {
   "cell_type": "code",
   "execution_count": 498,
   "id": "e8f7b0f1",
   "metadata": {},
   "outputs": [
    {
     "data": {
      "text/plain": [
       "total_bill    0\n",
       "tip           0\n",
       "sex           0\n",
       "smoker        0\n",
       "day           0\n",
       "time          0\n",
       "size          0\n",
       "dtype: int64"
      ]
     },
     "execution_count": 498,
     "metadata": {},
     "output_type": "execute_result"
    }
   ],
   "source": [
    "df.isna().sum()"
   ]
  },
  {
   "cell_type": "code",
   "execution_count": null,
   "id": "ee4a91e1",
   "metadata": {},
   "outputs": [],
   "source": []
  },
  {
   "cell_type": "code",
   "execution_count": 499,
   "id": "fa428476",
   "metadata": {},
   "outputs": [
    {
     "data": {
      "text/plain": [
       "array([ 1.01,  1.66,  3.5 ,  3.31,  3.61,  4.71,  2.  ,  3.12,  1.96,\n",
       "        3.23,  1.71,  5.  ,  1.57,  3.  ,  3.02,  3.92,  1.67,  3.71,\n",
       "        3.35,  4.08,  2.75,  2.23,  7.58,  3.18,  2.34,  4.3 ,  1.45,\n",
       "        2.5 ,  2.45,  3.27,  3.6 ,  3.07,  2.31,  2.24,  2.54,  3.06,\n",
       "        1.32,  5.6 ,  6.  ,  2.05,  2.6 ,  5.2 ,  1.56,  4.34,  3.51,\n",
       "        1.5 ,  1.76,  6.73,  3.21,  1.98,  3.76,  2.64,  3.15,  2.47,\n",
       "        1.  ,  2.01,  2.09,  1.97,  3.14,  2.2 ,  1.25,  3.08,  4.  ,\n",
       "        2.71,  3.4 ,  1.83,  2.03,  5.17,  5.85,  3.25,  4.73,  3.48,\n",
       "        1.64,  4.06,  4.29,  2.55,  5.07,  1.8 ,  2.92,  1.68,  2.52,\n",
       "        4.2 ,  1.48,  2.18,  2.83,  6.7 ,  2.3 ,  1.36,  1.63,  1.73,\n",
       "        2.74,  5.14,  3.75,  2.61,  4.5 ,  1.61, 10.  ,  3.16,  5.15,\n",
       "        3.11,  3.55,  3.68,  5.65,  6.5 ,  4.19,  2.56,  2.02,  1.44,\n",
       "        3.41,  5.16,  9.  ,  1.1 ,  3.09,  1.92,  1.58,  2.72,  2.88,\n",
       "        3.39,  1.47,  1.17,  4.67,  5.92,  1.75])"
      ]
     },
     "execution_count": 499,
     "metadata": {},
     "output_type": "execute_result"
    }
   ],
   "source": [
    "df['tip'].unique()"
   ]
  },
  {
   "cell_type": "code",
   "execution_count": 500,
   "id": "ad4b5ed5",
   "metadata": {},
   "outputs": [
    {
     "data": {
      "text/html": [
       "<div>\n",
       "<style scoped>\n",
       "    .dataframe tbody tr th:only-of-type {\n",
       "        vertical-align: middle;\n",
       "    }\n",
       "\n",
       "    .dataframe tbody tr th {\n",
       "        vertical-align: top;\n",
       "    }\n",
       "\n",
       "    .dataframe thead th {\n",
       "        text-align: right;\n",
       "    }\n",
       "</style>\n",
       "<table border=\"1\" class=\"dataframe\">\n",
       "  <thead>\n",
       "    <tr style=\"text-align: right;\">\n",
       "      <th></th>\n",
       "      <th>total_bill</th>\n",
       "      <th>tip</th>\n",
       "      <th>size</th>\n",
       "      <th>sex_new</th>\n",
       "      <th>smoker_new</th>\n",
       "      <th>day_new</th>\n",
       "      <th>time_new</th>\n",
       "    </tr>\n",
       "  </thead>\n",
       "  <tbody>\n",
       "    <tr>\n",
       "      <th>total_bill</th>\n",
       "      <td>1.000000</td>\n",
       "      <td>0.675734</td>\n",
       "      <td>0.598315</td>\n",
       "      <td>0.144877</td>\n",
       "      <td>0.085721</td>\n",
       "      <td>-0.043550</td>\n",
       "      <td>-0.183118</td>\n",
       "    </tr>\n",
       "    <tr>\n",
       "      <th>tip</th>\n",
       "      <td>0.675734</td>\n",
       "      <td>1.000000</td>\n",
       "      <td>0.489299</td>\n",
       "      <td>0.088862</td>\n",
       "      <td>0.005929</td>\n",
       "      <td>-0.011548</td>\n",
       "      <td>-0.121629</td>\n",
       "    </tr>\n",
       "    <tr>\n",
       "      <th>size</th>\n",
       "      <td>0.598315</td>\n",
       "      <td>0.489299</td>\n",
       "      <td>1.000000</td>\n",
       "      <td>0.086195</td>\n",
       "      <td>-0.133178</td>\n",
       "      <td>0.069510</td>\n",
       "      <td>-0.103411</td>\n",
       "    </tr>\n",
       "    <tr>\n",
       "      <th>sex_new</th>\n",
       "      <td>0.144877</td>\n",
       "      <td>0.088862</td>\n",
       "      <td>0.086195</td>\n",
       "      <td>1.000000</td>\n",
       "      <td>0.002816</td>\n",
       "      <td>-0.078292</td>\n",
       "      <td>-0.205231</td>\n",
       "    </tr>\n",
       "    <tr>\n",
       "      <th>smoker_new</th>\n",
       "      <td>0.085721</td>\n",
       "      <td>0.005929</td>\n",
       "      <td>-0.133178</td>\n",
       "      <td>0.002816</td>\n",
       "      <td>1.000000</td>\n",
       "      <td>-0.282721</td>\n",
       "      <td>-0.054921</td>\n",
       "    </tr>\n",
       "    <tr>\n",
       "      <th>day_new</th>\n",
       "      <td>-0.043550</td>\n",
       "      <td>-0.011548</td>\n",
       "      <td>0.069510</td>\n",
       "      <td>-0.078292</td>\n",
       "      <td>-0.282721</td>\n",
       "      <td>1.000000</td>\n",
       "      <td>0.638019</td>\n",
       "    </tr>\n",
       "    <tr>\n",
       "      <th>time_new</th>\n",
       "      <td>-0.183118</td>\n",
       "      <td>-0.121629</td>\n",
       "      <td>-0.103411</td>\n",
       "      <td>-0.205231</td>\n",
       "      <td>-0.054921</td>\n",
       "      <td>0.638019</td>\n",
       "      <td>1.000000</td>\n",
       "    </tr>\n",
       "  </tbody>\n",
       "</table>\n",
       "</div>"
      ],
      "text/plain": [
       "            total_bill       tip      size   sex_new  smoker_new   day_new  \\\n",
       "total_bill    1.000000  0.675734  0.598315  0.144877    0.085721 -0.043550   \n",
       "tip           0.675734  1.000000  0.489299  0.088862    0.005929 -0.011548   \n",
       "size          0.598315  0.489299  1.000000  0.086195   -0.133178  0.069510   \n",
       "sex_new       0.144877  0.088862  0.086195  1.000000    0.002816 -0.078292   \n",
       "smoker_new    0.085721  0.005929 -0.133178  0.002816    1.000000 -0.282721   \n",
       "day_new      -0.043550 -0.011548  0.069510 -0.078292   -0.282721  1.000000   \n",
       "time_new     -0.183118 -0.121629 -0.103411 -0.205231   -0.054921  0.638019   \n",
       "\n",
       "            time_new  \n",
       "total_bill -0.183118  \n",
       "tip        -0.121629  \n",
       "size       -0.103411  \n",
       "sex_new    -0.205231  \n",
       "smoker_new -0.054921  \n",
       "day_new     0.638019  \n",
       "time_new    1.000000  "
      ]
     },
     "execution_count": 500,
     "metadata": {},
     "output_type": "execute_result"
    }
   ],
   "source": [
    "new_df.corr()"
   ]
  },
  {
   "cell_type": "code",
   "execution_count": null,
   "id": "aeabcc81",
   "metadata": {},
   "outputs": [],
   "source": []
  },
  {
   "cell_type": "markdown",
   "id": "68d2c4fd",
   "metadata": {},
   "source": [
    "# Converting object data into int "
   ]
  },
  {
   "cell_type": "code",
   "execution_count": 501,
   "id": "87d59670",
   "metadata": {},
   "outputs": [],
   "source": [
    "le=LabelEncoder()"
   ]
  },
  {
   "cell_type": "code",
   "execution_count": null,
   "id": "c47b7a84",
   "metadata": {},
   "outputs": [],
   "source": []
  },
  {
   "cell_type": "code",
   "execution_count": 502,
   "id": "ca30925d",
   "metadata": {},
   "outputs": [
    {
     "data": {
      "text/plain": [
       "array(['Female', 'Male'], dtype=object)"
      ]
     },
     "execution_count": 502,
     "metadata": {},
     "output_type": "execute_result"
    }
   ],
   "source": [
    "df['sex'].unique()"
   ]
  },
  {
   "cell_type": "code",
   "execution_count": 503,
   "id": "4ae7e193",
   "metadata": {},
   "outputs": [],
   "source": [
    "df['sex_new']=le.fit_transform(df['sex'])"
   ]
  },
  {
   "cell_type": "code",
   "execution_count": 504,
   "id": "49fba713",
   "metadata": {},
   "outputs": [
    {
     "data": {
      "text/plain": [
       "0      0\n",
       "1      1\n",
       "2      1\n",
       "3      1\n",
       "4      0\n",
       "      ..\n",
       "239    1\n",
       "240    0\n",
       "241    1\n",
       "242    1\n",
       "243    0\n",
       "Name: sex_new, Length: 244, dtype: int32"
      ]
     },
     "execution_count": 504,
     "metadata": {},
     "output_type": "execute_result"
    }
   ],
   "source": [
    "df['sex_new']"
   ]
  },
  {
   "cell_type": "code",
   "execution_count": null,
   "id": "ddb2e1ec",
   "metadata": {},
   "outputs": [],
   "source": []
  },
  {
   "cell_type": "code",
   "execution_count": 505,
   "id": "cadce9a1",
   "metadata": {},
   "outputs": [
    {
     "data": {
      "text/plain": [
       "array(['No', 'Yes'], dtype=object)"
      ]
     },
     "execution_count": 505,
     "metadata": {},
     "output_type": "execute_result"
    }
   ],
   "source": [
    "df['smoker'].unique()"
   ]
  },
  {
   "cell_type": "code",
   "execution_count": 506,
   "id": "fc914ad0",
   "metadata": {},
   "outputs": [],
   "source": [
    "df['smoker_new']=le.fit_transform(df['smoker'])"
   ]
  },
  {
   "cell_type": "code",
   "execution_count": 507,
   "id": "70f23a8a",
   "metadata": {},
   "outputs": [
    {
     "data": {
      "text/plain": [
       "0      0\n",
       "1      0\n",
       "2      0\n",
       "3      0\n",
       "4      0\n",
       "      ..\n",
       "239    0\n",
       "240    1\n",
       "241    1\n",
       "242    0\n",
       "243    0\n",
       "Name: smoker_new, Length: 244, dtype: int32"
      ]
     },
     "execution_count": 507,
     "metadata": {},
     "output_type": "execute_result"
    }
   ],
   "source": [
    "df['smoker_new']"
   ]
  },
  {
   "cell_type": "code",
   "execution_count": null,
   "id": "d9f860d5",
   "metadata": {},
   "outputs": [],
   "source": []
  },
  {
   "cell_type": "code",
   "execution_count": 508,
   "id": "d28ee3ad",
   "metadata": {},
   "outputs": [
    {
     "data": {
      "text/plain": [
       "array(['Sun', 'Sat', 'Thur', 'Fri'], dtype=object)"
      ]
     },
     "execution_count": 508,
     "metadata": {},
     "output_type": "execute_result"
    }
   ],
   "source": [
    "df['day'].unique()"
   ]
  },
  {
   "cell_type": "code",
   "execution_count": 509,
   "id": "6a784197",
   "metadata": {},
   "outputs": [],
   "source": [
    "df['day_new']=le.fit_transform(df['day'])"
   ]
  },
  {
   "cell_type": "code",
   "execution_count": 510,
   "id": "e25ece45",
   "metadata": {},
   "outputs": [
    {
     "data": {
      "text/html": [
       "<div>\n",
       "<style scoped>\n",
       "    .dataframe tbody tr th:only-of-type {\n",
       "        vertical-align: middle;\n",
       "    }\n",
       "\n",
       "    .dataframe tbody tr th {\n",
       "        vertical-align: top;\n",
       "    }\n",
       "\n",
       "    .dataframe thead th {\n",
       "        text-align: right;\n",
       "    }\n",
       "</style>\n",
       "<table border=\"1\" class=\"dataframe\">\n",
       "  <thead>\n",
       "    <tr style=\"text-align: right;\">\n",
       "      <th></th>\n",
       "      <th>day_new</th>\n",
       "    </tr>\n",
       "  </thead>\n",
       "  <tbody>\n",
       "    <tr>\n",
       "      <th>0</th>\n",
       "      <td>2</td>\n",
       "    </tr>\n",
       "    <tr>\n",
       "      <th>1</th>\n",
       "      <td>2</td>\n",
       "    </tr>\n",
       "    <tr>\n",
       "      <th>2</th>\n",
       "      <td>2</td>\n",
       "    </tr>\n",
       "    <tr>\n",
       "      <th>3</th>\n",
       "      <td>2</td>\n",
       "    </tr>\n",
       "    <tr>\n",
       "      <th>4</th>\n",
       "      <td>2</td>\n",
       "    </tr>\n",
       "    <tr>\n",
       "      <th>...</th>\n",
       "      <td>...</td>\n",
       "    </tr>\n",
       "    <tr>\n",
       "      <th>239</th>\n",
       "      <td>1</td>\n",
       "    </tr>\n",
       "    <tr>\n",
       "      <th>240</th>\n",
       "      <td>1</td>\n",
       "    </tr>\n",
       "    <tr>\n",
       "      <th>241</th>\n",
       "      <td>1</td>\n",
       "    </tr>\n",
       "    <tr>\n",
       "      <th>242</th>\n",
       "      <td>1</td>\n",
       "    </tr>\n",
       "    <tr>\n",
       "      <th>243</th>\n",
       "      <td>3</td>\n",
       "    </tr>\n",
       "  </tbody>\n",
       "</table>\n",
       "<p>244 rows × 1 columns</p>\n",
       "</div>"
      ],
      "text/plain": [
       "     day_new\n",
       "0          2\n",
       "1          2\n",
       "2          2\n",
       "3          2\n",
       "4          2\n",
       "..       ...\n",
       "239        1\n",
       "240        1\n",
       "241        1\n",
       "242        1\n",
       "243        3\n",
       "\n",
       "[244 rows x 1 columns]"
      ]
     },
     "execution_count": 510,
     "metadata": {},
     "output_type": "execute_result"
    }
   ],
   "source": [
    "df[['day_new']]"
   ]
  },
  {
   "cell_type": "code",
   "execution_count": null,
   "id": "74da8013",
   "metadata": {},
   "outputs": [],
   "source": []
  },
  {
   "cell_type": "code",
   "execution_count": 511,
   "id": "515b0c89",
   "metadata": {},
   "outputs": [
    {
     "data": {
      "text/plain": [
       "array(['Dinner', 'Lunch'], dtype=object)"
      ]
     },
     "execution_count": 511,
     "metadata": {},
     "output_type": "execute_result"
    }
   ],
   "source": [
    "df['time'].unique()"
   ]
  },
  {
   "cell_type": "code",
   "execution_count": 512,
   "id": "d5bae07d",
   "metadata": {},
   "outputs": [],
   "source": [
    "df['time_new']=le.fit_transform(df['time'])"
   ]
  },
  {
   "cell_type": "code",
   "execution_count": 513,
   "id": "5c7ef421",
   "metadata": {},
   "outputs": [
    {
     "data": {
      "text/plain": [
       "0      0\n",
       "1      0\n",
       "2      0\n",
       "3      0\n",
       "4      0\n",
       "      ..\n",
       "239    0\n",
       "240    0\n",
       "241    0\n",
       "242    0\n",
       "243    0\n",
       "Name: time_new, Length: 244, dtype: int32"
      ]
     },
     "execution_count": 513,
     "metadata": {},
     "output_type": "execute_result"
    }
   ],
   "source": [
    "df['time_new']"
   ]
  },
  {
   "cell_type": "code",
   "execution_count": null,
   "id": "3b4d9509",
   "metadata": {},
   "outputs": [],
   "source": []
  },
  {
   "cell_type": "code",
   "execution_count": 514,
   "id": "61e94a21",
   "metadata": {},
   "outputs": [
    {
     "data": {
      "text/html": [
       "<div>\n",
       "<style scoped>\n",
       "    .dataframe tbody tr th:only-of-type {\n",
       "        vertical-align: middle;\n",
       "    }\n",
       "\n",
       "    .dataframe tbody tr th {\n",
       "        vertical-align: top;\n",
       "    }\n",
       "\n",
       "    .dataframe thead th {\n",
       "        text-align: right;\n",
       "    }\n",
       "</style>\n",
       "<table border=\"1\" class=\"dataframe\">\n",
       "  <thead>\n",
       "    <tr style=\"text-align: right;\">\n",
       "      <th></th>\n",
       "      <th>total_bill</th>\n",
       "      <th>tip</th>\n",
       "      <th>sex</th>\n",
       "      <th>smoker</th>\n",
       "      <th>day</th>\n",
       "      <th>time</th>\n",
       "      <th>size</th>\n",
       "      <th>sex_new</th>\n",
       "      <th>smoker_new</th>\n",
       "      <th>day_new</th>\n",
       "      <th>time_new</th>\n",
       "    </tr>\n",
       "  </thead>\n",
       "  <tbody>\n",
       "    <tr>\n",
       "      <th>0</th>\n",
       "      <td>16.99</td>\n",
       "      <td>1.01</td>\n",
       "      <td>Female</td>\n",
       "      <td>No</td>\n",
       "      <td>Sun</td>\n",
       "      <td>Dinner</td>\n",
       "      <td>2</td>\n",
       "      <td>0</td>\n",
       "      <td>0</td>\n",
       "      <td>2</td>\n",
       "      <td>0</td>\n",
       "    </tr>\n",
       "    <tr>\n",
       "      <th>1</th>\n",
       "      <td>10.34</td>\n",
       "      <td>1.66</td>\n",
       "      <td>Male</td>\n",
       "      <td>No</td>\n",
       "      <td>Sun</td>\n",
       "      <td>Dinner</td>\n",
       "      <td>3</td>\n",
       "      <td>1</td>\n",
       "      <td>0</td>\n",
       "      <td>2</td>\n",
       "      <td>0</td>\n",
       "    </tr>\n",
       "    <tr>\n",
       "      <th>2</th>\n",
       "      <td>21.01</td>\n",
       "      <td>3.50</td>\n",
       "      <td>Male</td>\n",
       "      <td>No</td>\n",
       "      <td>Sun</td>\n",
       "      <td>Dinner</td>\n",
       "      <td>3</td>\n",
       "      <td>1</td>\n",
       "      <td>0</td>\n",
       "      <td>2</td>\n",
       "      <td>0</td>\n",
       "    </tr>\n",
       "    <tr>\n",
       "      <th>3</th>\n",
       "      <td>23.68</td>\n",
       "      <td>3.31</td>\n",
       "      <td>Male</td>\n",
       "      <td>No</td>\n",
       "      <td>Sun</td>\n",
       "      <td>Dinner</td>\n",
       "      <td>2</td>\n",
       "      <td>1</td>\n",
       "      <td>0</td>\n",
       "      <td>2</td>\n",
       "      <td>0</td>\n",
       "    </tr>\n",
       "    <tr>\n",
       "      <th>4</th>\n",
       "      <td>24.59</td>\n",
       "      <td>3.61</td>\n",
       "      <td>Female</td>\n",
       "      <td>No</td>\n",
       "      <td>Sun</td>\n",
       "      <td>Dinner</td>\n",
       "      <td>4</td>\n",
       "      <td>0</td>\n",
       "      <td>0</td>\n",
       "      <td>2</td>\n",
       "      <td>0</td>\n",
       "    </tr>\n",
       "    <tr>\n",
       "      <th>...</th>\n",
       "      <td>...</td>\n",
       "      <td>...</td>\n",
       "      <td>...</td>\n",
       "      <td>...</td>\n",
       "      <td>...</td>\n",
       "      <td>...</td>\n",
       "      <td>...</td>\n",
       "      <td>...</td>\n",
       "      <td>...</td>\n",
       "      <td>...</td>\n",
       "      <td>...</td>\n",
       "    </tr>\n",
       "    <tr>\n",
       "      <th>239</th>\n",
       "      <td>29.03</td>\n",
       "      <td>5.92</td>\n",
       "      <td>Male</td>\n",
       "      <td>No</td>\n",
       "      <td>Sat</td>\n",
       "      <td>Dinner</td>\n",
       "      <td>3</td>\n",
       "      <td>1</td>\n",
       "      <td>0</td>\n",
       "      <td>1</td>\n",
       "      <td>0</td>\n",
       "    </tr>\n",
       "    <tr>\n",
       "      <th>240</th>\n",
       "      <td>27.18</td>\n",
       "      <td>2.00</td>\n",
       "      <td>Female</td>\n",
       "      <td>Yes</td>\n",
       "      <td>Sat</td>\n",
       "      <td>Dinner</td>\n",
       "      <td>2</td>\n",
       "      <td>0</td>\n",
       "      <td>1</td>\n",
       "      <td>1</td>\n",
       "      <td>0</td>\n",
       "    </tr>\n",
       "    <tr>\n",
       "      <th>241</th>\n",
       "      <td>22.67</td>\n",
       "      <td>2.00</td>\n",
       "      <td>Male</td>\n",
       "      <td>Yes</td>\n",
       "      <td>Sat</td>\n",
       "      <td>Dinner</td>\n",
       "      <td>2</td>\n",
       "      <td>1</td>\n",
       "      <td>1</td>\n",
       "      <td>1</td>\n",
       "      <td>0</td>\n",
       "    </tr>\n",
       "    <tr>\n",
       "      <th>242</th>\n",
       "      <td>17.82</td>\n",
       "      <td>1.75</td>\n",
       "      <td>Male</td>\n",
       "      <td>No</td>\n",
       "      <td>Sat</td>\n",
       "      <td>Dinner</td>\n",
       "      <td>2</td>\n",
       "      <td>1</td>\n",
       "      <td>0</td>\n",
       "      <td>1</td>\n",
       "      <td>0</td>\n",
       "    </tr>\n",
       "    <tr>\n",
       "      <th>243</th>\n",
       "      <td>18.78</td>\n",
       "      <td>3.00</td>\n",
       "      <td>Female</td>\n",
       "      <td>No</td>\n",
       "      <td>Thur</td>\n",
       "      <td>Dinner</td>\n",
       "      <td>2</td>\n",
       "      <td>0</td>\n",
       "      <td>0</td>\n",
       "      <td>3</td>\n",
       "      <td>0</td>\n",
       "    </tr>\n",
       "  </tbody>\n",
       "</table>\n",
       "<p>244 rows × 11 columns</p>\n",
       "</div>"
      ],
      "text/plain": [
       "     total_bill   tip     sex smoker   day    time  size  sex_new  smoker_new  \\\n",
       "0         16.99  1.01  Female     No   Sun  Dinner     2        0           0   \n",
       "1         10.34  1.66    Male     No   Sun  Dinner     3        1           0   \n",
       "2         21.01  3.50    Male     No   Sun  Dinner     3        1           0   \n",
       "3         23.68  3.31    Male     No   Sun  Dinner     2        1           0   \n",
       "4         24.59  3.61  Female     No   Sun  Dinner     4        0           0   \n",
       "..          ...   ...     ...    ...   ...     ...   ...      ...         ...   \n",
       "239       29.03  5.92    Male     No   Sat  Dinner     3        1           0   \n",
       "240       27.18  2.00  Female    Yes   Sat  Dinner     2        0           1   \n",
       "241       22.67  2.00    Male    Yes   Sat  Dinner     2        1           1   \n",
       "242       17.82  1.75    Male     No   Sat  Dinner     2        1           0   \n",
       "243       18.78  3.00  Female     No  Thur  Dinner     2        0           0   \n",
       "\n",
       "     day_new  time_new  \n",
       "0          2         0  \n",
       "1          2         0  \n",
       "2          2         0  \n",
       "3          2         0  \n",
       "4          2         0  \n",
       "..       ...       ...  \n",
       "239        1         0  \n",
       "240        1         0  \n",
       "241        1         0  \n",
       "242        1         0  \n",
       "243        3         0  \n",
       "\n",
       "[244 rows x 11 columns]"
      ]
     },
     "execution_count": 514,
     "metadata": {},
     "output_type": "execute_result"
    }
   ],
   "source": [
    "df"
   ]
  },
  {
   "cell_type": "code",
   "execution_count": null,
   "id": "e0131624",
   "metadata": {},
   "outputs": [],
   "source": []
  },
  {
   "cell_type": "code",
   "execution_count": 515,
   "id": "36e6d5ea",
   "metadata": {},
   "outputs": [],
   "source": [
    "new_df=df.drop(['sex','smoker','day','time'],axis=1)"
   ]
  },
  {
   "cell_type": "code",
   "execution_count": 516,
   "id": "855da5dd",
   "metadata": {},
   "outputs": [
    {
     "data": {
      "text/html": [
       "<div>\n",
       "<style scoped>\n",
       "    .dataframe tbody tr th:only-of-type {\n",
       "        vertical-align: middle;\n",
       "    }\n",
       "\n",
       "    .dataframe tbody tr th {\n",
       "        vertical-align: top;\n",
       "    }\n",
       "\n",
       "    .dataframe thead th {\n",
       "        text-align: right;\n",
       "    }\n",
       "</style>\n",
       "<table border=\"1\" class=\"dataframe\">\n",
       "  <thead>\n",
       "    <tr style=\"text-align: right;\">\n",
       "      <th></th>\n",
       "      <th>total_bill</th>\n",
       "      <th>tip</th>\n",
       "      <th>size</th>\n",
       "      <th>sex_new</th>\n",
       "      <th>smoker_new</th>\n",
       "      <th>day_new</th>\n",
       "      <th>time_new</th>\n",
       "    </tr>\n",
       "  </thead>\n",
       "  <tbody>\n",
       "    <tr>\n",
       "      <th>0</th>\n",
       "      <td>16.99</td>\n",
       "      <td>1.01</td>\n",
       "      <td>2</td>\n",
       "      <td>0</td>\n",
       "      <td>0</td>\n",
       "      <td>2</td>\n",
       "      <td>0</td>\n",
       "    </tr>\n",
       "    <tr>\n",
       "      <th>1</th>\n",
       "      <td>10.34</td>\n",
       "      <td>1.66</td>\n",
       "      <td>3</td>\n",
       "      <td>1</td>\n",
       "      <td>0</td>\n",
       "      <td>2</td>\n",
       "      <td>0</td>\n",
       "    </tr>\n",
       "    <tr>\n",
       "      <th>2</th>\n",
       "      <td>21.01</td>\n",
       "      <td>3.50</td>\n",
       "      <td>3</td>\n",
       "      <td>1</td>\n",
       "      <td>0</td>\n",
       "      <td>2</td>\n",
       "      <td>0</td>\n",
       "    </tr>\n",
       "    <tr>\n",
       "      <th>3</th>\n",
       "      <td>23.68</td>\n",
       "      <td>3.31</td>\n",
       "      <td>2</td>\n",
       "      <td>1</td>\n",
       "      <td>0</td>\n",
       "      <td>2</td>\n",
       "      <td>0</td>\n",
       "    </tr>\n",
       "    <tr>\n",
       "      <th>4</th>\n",
       "      <td>24.59</td>\n",
       "      <td>3.61</td>\n",
       "      <td>4</td>\n",
       "      <td>0</td>\n",
       "      <td>0</td>\n",
       "      <td>2</td>\n",
       "      <td>0</td>\n",
       "    </tr>\n",
       "    <tr>\n",
       "      <th>...</th>\n",
       "      <td>...</td>\n",
       "      <td>...</td>\n",
       "      <td>...</td>\n",
       "      <td>...</td>\n",
       "      <td>...</td>\n",
       "      <td>...</td>\n",
       "      <td>...</td>\n",
       "    </tr>\n",
       "    <tr>\n",
       "      <th>239</th>\n",
       "      <td>29.03</td>\n",
       "      <td>5.92</td>\n",
       "      <td>3</td>\n",
       "      <td>1</td>\n",
       "      <td>0</td>\n",
       "      <td>1</td>\n",
       "      <td>0</td>\n",
       "    </tr>\n",
       "    <tr>\n",
       "      <th>240</th>\n",
       "      <td>27.18</td>\n",
       "      <td>2.00</td>\n",
       "      <td>2</td>\n",
       "      <td>0</td>\n",
       "      <td>1</td>\n",
       "      <td>1</td>\n",
       "      <td>0</td>\n",
       "    </tr>\n",
       "    <tr>\n",
       "      <th>241</th>\n",
       "      <td>22.67</td>\n",
       "      <td>2.00</td>\n",
       "      <td>2</td>\n",
       "      <td>1</td>\n",
       "      <td>1</td>\n",
       "      <td>1</td>\n",
       "      <td>0</td>\n",
       "    </tr>\n",
       "    <tr>\n",
       "      <th>242</th>\n",
       "      <td>17.82</td>\n",
       "      <td>1.75</td>\n",
       "      <td>2</td>\n",
       "      <td>1</td>\n",
       "      <td>0</td>\n",
       "      <td>1</td>\n",
       "      <td>0</td>\n",
       "    </tr>\n",
       "    <tr>\n",
       "      <th>243</th>\n",
       "      <td>18.78</td>\n",
       "      <td>3.00</td>\n",
       "      <td>2</td>\n",
       "      <td>0</td>\n",
       "      <td>0</td>\n",
       "      <td>3</td>\n",
       "      <td>0</td>\n",
       "    </tr>\n",
       "  </tbody>\n",
       "</table>\n",
       "<p>244 rows × 7 columns</p>\n",
       "</div>"
      ],
      "text/plain": [
       "     total_bill   tip  size  sex_new  smoker_new  day_new  time_new\n",
       "0         16.99  1.01     2        0           0        2         0\n",
       "1         10.34  1.66     3        1           0        2         0\n",
       "2         21.01  3.50     3        1           0        2         0\n",
       "3         23.68  3.31     2        1           0        2         0\n",
       "4         24.59  3.61     4        0           0        2         0\n",
       "..          ...   ...   ...      ...         ...      ...       ...\n",
       "239       29.03  5.92     3        1           0        1         0\n",
       "240       27.18  2.00     2        0           1        1         0\n",
       "241       22.67  2.00     2        1           1        1         0\n",
       "242       17.82  1.75     2        1           0        1         0\n",
       "243       18.78  3.00     2        0           0        3         0\n",
       "\n",
       "[244 rows x 7 columns]"
      ]
     },
     "execution_count": 516,
     "metadata": {},
     "output_type": "execute_result"
    }
   ],
   "source": [
    "new_df"
   ]
  },
  {
   "cell_type": "code",
   "execution_count": null,
   "id": "632e71b0",
   "metadata": {},
   "outputs": [],
   "source": []
  },
  {
   "cell_type": "markdown",
   "id": "dbb703ec",
   "metadata": {},
   "source": [
    "# Data Visualization"
   ]
  },
  {
   "cell_type": "code",
   "execution_count": 517,
   "id": "3808f9dc",
   "metadata": {},
   "outputs": [
    {
     "data": {
      "text/plain": [
       "['total_bill', 'tip', 'size', 'sex_new', 'smoker_new', 'day_new', 'time_new']"
      ]
     },
     "execution_count": 517,
     "metadata": {},
     "output_type": "execute_result"
    }
   ],
   "source": [
    "cols = new_df.columns.tolist()\n",
    "cols"
   ]
  },
  {
   "cell_type": "code",
   "execution_count": 518,
   "id": "862c6b0d",
   "metadata": {},
   "outputs": [
    {
     "data": {
      "image/png": "[encoded data removed]",
      "text/plain": [
       "<Figure size 500x500 with 1 Axes>"
      ]
     },
     "metadata": {},
     "output_type": "display_data"
    },
    {
     "data": {
      "image/png": "[encoded data removed]",
      "text/plain": [
       "<Figure size 500x500 with 1 Axes>"
      ]
     },
     "metadata": {},
     "output_type": "display_data"
    },
    {
     "data": {
      "image/png": "[encoded data removed]",
      "text/plain": [
       "<Figure size 500x500 with 1 Axes>"
      ]
     },
     "metadata": {},
     "output_type": "display_data"
    },
    {
     "data": {
      "image/png": "[encoded data removed]",
      "text/plain": [
       "<Figure size 500x500 with 1 Axes>"
      ]
     },
     "metadata": {},
     "output_type": "display_data"
    },
    {
     "data": {
      "image/png": "[encoded data removed]",
      "text/plain": [
       "<Figure size 500x500 with 1 Axes>"
      ]
     },
     "metadata": {},
     "output_type": "display_data"
    },
    {
     "data": {
      "image/png": "[encoded data removed]",
      "text/plain": [
       "<Figure size 500x500 with 1 Axes>"
      ]
     },
     "metadata": {},
     "output_type": "display_data"
    },
    {
     "data": {
      "image/png": "[encoded data removed]",
      "text/plain": [
       "<Figure size 500x500 with 1 Axes>"
      ]
     },
     "metadata": {},
     "output_type": "display_data"
    }
   ],
   "source": [
    "for value in cols:\n",
    "    sns.catplot(data=new_df, x=value, y=\"tip\", kind=\"box\")\n"
   ]
  },
  {
   "cell_type": "code",
   "execution_count": 519,
   "id": "8eb73638",
   "metadata": {},
   "outputs": [
    {
     "data": {
      "image/png": "[encoded data removed]",
      "text/plain": [
       "<Figure size 500x500 with 1 Axes>"
      ]
     },
     "metadata": {},
     "output_type": "display_data"
    },
    {
     "data": {
      "image/png": "[encoded data removed]",
      "text/plain": [
       "<Figure size 500x500 with 1 Axes>"
      ]
     },
     "metadata": {},
     "output_type": "display_data"
    },
    {
     "data": {
      "image/png": "[encoded data removed]",
      "text/plain": [
       "<Figure size 500x500 with 1 Axes>"
      ]
     },
     "metadata": {},
     "output_type": "display_data"
    },
    {
     "data": {
      "image/png": "[encoded data removed]",
      "text/plain": [
       "<Figure size 500x500 with 1 Axes>"
      ]
     },
     "metadata": {},
     "output_type": "display_data"
    },
    {
     "data": {
      "image/png": "[encoded data removed]",
      "text/plain": [
       "<Figure size 500x500 with 1 Axes>"
      ]
     },
     "metadata": {},
     "output_type": "display_data"
    },
    {
     "data": {
      "image/png": "[encoded data removed]",
      "text/plain": [
       "<Figure size 500x500 with 1 Axes>"
      ]
     },
     "metadata": {},
     "output_type": "display_data"
    },
    {
     "data": {
      "image/png": "[encoded data removed]",
      "text/plain": [
       "<Figure size 500x500 with 1 Axes>"
      ]
     },
     "metadata": {},
     "output_type": "display_data"
    }
   ],
   "source": [
    "for value in cols:\n",
    "    sns.catplot(data=new_df, x=value, y=\"tip\", kind=\"bar\")\n"
   ]
  },
  {
   "cell_type": "code",
   "execution_count": 520,
   "id": "3b463ba9",
   "metadata": {},
   "outputs": [
    {
     "name": "stderr",
     "output_type": "stream",
     "text": [
      "C:\\Users\\Lenovo\\AppData\\Local\\Programs\\Python\\Python310\\lib\\site-packages\\seaborn\\_decorators.py:36: FutureWarning: Pass the following variable as a keyword arg: x. From version 0.12, the only valid positional argument will be `data`, and passing other arguments without an explicit keyword will result in an error or misinterpretation.\n",
      "  warnings.warn(\n"
     ]
    },
    {
     "data": {
      "text/plain": [
       "<AxesSubplot:xlabel='sex', ylabel='count'>"
      ]
     },
     "execution_count": 520,
     "metadata": {},
     "output_type": "execute_result"
    },
    {
     "data": {
      "image/png": "[encoded data removed]",
      "text/plain": [
       "<Figure size 1800x1000 with 1 Axes>"
      ]
     },
     "metadata": {},
     "output_type": "display_data"
    }
   ],
   "source": [
    "sns.set(rc = {'figure.figsize':(18,10)})\n",
    "sns.countplot(df['sex'])"
   ]
  },
  {
   "cell_type": "code",
   "execution_count": 521,
   "id": "1ec476bb",
   "metadata": {},
   "outputs": [
    {
     "name": "stderr",
     "output_type": "stream",
     "text": [
      "C:\\Users\\Lenovo\\AppData\\Local\\Programs\\Python\\Python310\\lib\\site-packages\\seaborn\\_decorators.py:36: FutureWarning: Pass the following variable as a keyword arg: x. From version 0.12, the only valid positional argument will be `data`, and passing other arguments without an explicit keyword will result in an error or misinterpretation.\n",
      "  warnings.warn(\n"
     ]
    },
    {
     "data": {
      "text/plain": [
       "<AxesSubplot:xlabel='size', ylabel='count'>"
      ]
     },
     "execution_count": 521,
     "metadata": {},
     "output_type": "execute_result"
    },
    {
     "data": {
      "image/png": "[encoded data removed]",
      "text/plain": [
       "<Figure size 1800x1000 with 1 Axes>"
      ]
     },
     "metadata": {},
     "output_type": "display_data"
    }
   ],
   "source": [
    "sns.set(rc = {'figure.figsize':(18,10)})\n",
    "sns.countplot(df['size'])"
   ]
  },
  {
   "cell_type": "code",
   "execution_count": 522,
   "id": "88558031",
   "metadata": {},
   "outputs": [
    {
     "name": "stderr",
     "output_type": "stream",
     "text": [
      "C:\\Users\\Lenovo\\AppData\\Local\\Programs\\Python\\Python310\\lib\\site-packages\\seaborn\\_decorators.py:36: FutureWarning: Pass the following variable as a keyword arg: x. From version 0.12, the only valid positional argument will be `data`, and passing other arguments without an explicit keyword will result in an error or misinterpretation.\n",
      "  warnings.warn(\n"
     ]
    },
    {
     "data": {
      "text/plain": [
       "<AxesSubplot:xlabel='day', ylabel='count'>"
      ]
     },
     "execution_count": 522,
     "metadata": {},
     "output_type": "execute_result"
    },
    {
     "data": {
      "image/png": "[encoded data removed]",
      "text/plain": [
       "<Figure size 1800x1000 with 1 Axes>"
      ]
     },
     "metadata": {},
     "output_type": "display_data"
    }
   ],
   "source": [
    "sns.set(rc = {'figure.figsize':(18,10)})\n",
    "sns.countplot(df['day'])"
   ]
  },
  {
   "cell_type": "code",
   "execution_count": 523,
   "id": "9f51f504",
   "metadata": {},
   "outputs": [
    {
     "name": "stderr",
     "output_type": "stream",
     "text": [
      "C:\\Users\\Lenovo\\AppData\\Local\\Programs\\Python\\Python310\\lib\\site-packages\\seaborn\\_decorators.py:36: FutureWarning: Pass the following variable as a keyword arg: x. From version 0.12, the only valid positional argument will be `data`, and passing other arguments without an explicit keyword will result in an error or misinterpretation.\n",
      "  warnings.warn(\n"
     ]
    },
    {
     "data": {
      "text/plain": [
       "<AxesSubplot:xlabel='time', ylabel='count'>"
      ]
     },
     "execution_count": 523,
     "metadata": {},
     "output_type": "execute_result"
    },
    {
     "data": {
      "image/png": "[encoded data removed]",
      "text/plain": [
       "<Figure size 1800x1000 with 1 Axes>"
      ]
     },
     "metadata": {},
     "output_type": "display_data"
    }
   ],
   "source": [
    "sns.set(rc = {'figure.figsize':(18,10)})\n",
    "sns.countplot(df['time'])"
   ]
  },
  {
   "cell_type": "code",
   "execution_count": 524,
   "id": "33240af4",
   "metadata": {},
   "outputs": [
    {
     "name": "stderr",
     "output_type": "stream",
     "text": [
      "C:\\Users\\Lenovo\\AppData\\Local\\Programs\\Python\\Python310\\lib\\site-packages\\seaborn\\_decorators.py:36: FutureWarning: Pass the following variable as a keyword arg: x. From version 0.12, the only valid positional argument will be `data`, and passing other arguments without an explicit keyword will result in an error or misinterpretation.\n",
      "  warnings.warn(\n"
     ]
    },
    {
     "data": {
      "text/plain": [
       "<AxesSubplot:xlabel='smoker', ylabel='count'>"
      ]
     },
     "execution_count": 524,
     "metadata": {},
     "output_type": "execute_result"
    },
    {
     "data": {
      "image/png": "[encoded data removed]",
      "text/plain": [
       "<Figure size 1800x1000 with 1 Axes>"
      ]
     },
     "metadata": {},
     "output_type": "display_data"
    }
   ],
   "source": [
    "sns.set(rc = {'figure.figsize':(18,10)})\n",
    "sns.countplot(df['smoker'])"
   ]
  },
  {
   "cell_type": "code",
   "execution_count": 525,
   "id": "0701b1d6",
   "metadata": {},
   "outputs": [
    {
     "name": "stderr",
     "output_type": "stream",
     "text": [
      "C:\\Users\\Lenovo\\AppData\\Local\\Programs\\Python\\Python310\\lib\\site-packages\\seaborn\\_decorators.py:36: FutureWarning: Pass the following variable as a keyword arg: x. From version 0.12, the only valid positional argument will be `data`, and passing other arguments without an explicit keyword will result in an error or misinterpretation.\n",
      "  warnings.warn(\n"
     ]
    },
    {
     "data": {
      "text/plain": [
       "<AxesSubplot:xlabel='total_bill'>"
      ]
     },
     "execution_count": 525,
     "metadata": {},
     "output_type": "execute_result"
    },
    {
     "data": {
      "image/png": "[encoded data removed]",
      "text/plain": [
       "<Figure size 1800x1000 with 1 Axes>"
      ]
     },
     "metadata": {},
     "output_type": "display_data"
    }
   ],
   "source": [
    "sns.set(rc = {'figure.figsize':(18,10)})\n",
    "sns.boxplot(df['total_bill'])"
   ]
  },
  {
   "cell_type": "code",
   "execution_count": 526,
   "id": "0a0bf9dc",
   "metadata": {},
   "outputs": [
    {
     "name": "stderr",
     "output_type": "stream",
     "text": [
      "C:\\Users\\Lenovo\\AppData\\Local\\Programs\\Python\\Python310\\lib\\site-packages\\seaborn\\_decorators.py:36: FutureWarning: Pass the following variable as a keyword arg: x. From version 0.12, the only valid positional argument will be `data`, and passing other arguments without an explicit keyword will result in an error or misinterpretation.\n",
      "  warnings.warn(\n"
     ]
    },
    {
     "data": {
      "text/plain": [
       "<AxesSubplot:xlabel='tip'>"
      ]
     },
     "execution_count": 526,
     "metadata": {},
     "output_type": "execute_result"
    },
    {
     "data": {
      "image/png": "[encoded data removed]",
      "text/plain": [
       "<Figure size 1800x1000 with 1 Axes>"
      ]
     },
     "metadata": {},
     "output_type": "display_data"
    }
   ],
   "source": [
    "sns.set(rc = {'figure.figsize':(18,10)})\n",
    "sns.boxplot(df['tip'])"
   ]
  },
  {
   "cell_type": "code",
   "execution_count": 527,
   "id": "e1d7bc69",
   "metadata": {},
   "outputs": [
    {
     "name": "stderr",
     "output_type": "stream",
     "text": [
      "C:\\Users\\Lenovo\\AppData\\Local\\Programs\\Python\\Python310\\lib\\site-packages\\seaborn\\distributions.py:2619: FutureWarning: `distplot` is a deprecated function and will be removed in a future version. Please adapt your code to use either `displot` (a figure-level function with similar flexibility) or `histplot` (an axes-level function for histograms).\n",
      "  warnings.warn(msg, FutureWarning)\n",
      "C:\\Users\\Lenovo\\AppData\\Local\\Programs\\Python\\Python310\\lib\\site-packages\\seaborn\\distributions.py:2619: FutureWarning: `distplot` is a deprecated function and will be removed in a future version. Please adapt your code to use either `displot` (a figure-level function with similar flexibility) or `histplot` (an axes-level function for histograms).\n",
      "  warnings.warn(msg, FutureWarning)\n",
      "C:\\Users\\Lenovo\\AppData\\Local\\Programs\\Python\\Python310\\lib\\site-packages\\seaborn\\distributions.py:2619: FutureWarning: `distplot` is a deprecated function and will be removed in a future version. Please adapt your code to use either `displot` (a figure-level function with similar flexibility) or `histplot` (an axes-level function for histograms).\n",
      "  warnings.warn(msg, FutureWarning)\n",
      "C:\\Users\\Lenovo\\AppData\\Local\\Programs\\Python\\Python310\\lib\\site-packages\\seaborn\\distributions.py:2619: FutureWarning: `distplot` is a deprecated function and will be removed in a future version. Please adapt your code to use either `displot` (a figure-level function with similar flexibility) or `histplot` (an axes-level function for histograms).\n",
      "  warnings.warn(msg, FutureWarning)\n",
      "C:\\Users\\Lenovo\\AppData\\Local\\Programs\\Python\\Python310\\lib\\site-packages\\seaborn\\distributions.py:2619: FutureWarning: `distplot` is a deprecated function and will be removed in a future version. Please adapt your code to use either `displot` (a figure-level function with similar flexibility) or `histplot` (an axes-level function for histograms).\n",
      "  warnings.warn(msg, FutureWarning)\n",
      "C:\\Users\\Lenovo\\AppData\\Local\\Programs\\Python\\Python310\\lib\\site-packages\\seaborn\\distributions.py:2619: FutureWarning: `distplot` is a deprecated function and will be removed in a future version. Please adapt your code to use either `displot` (a figure-level function with similar flexibility) or `histplot` (an axes-level function for histograms).\n",
      "  warnings.warn(msg, FutureWarning)\n",
      "C:\\Users\\Lenovo\\AppData\\Local\\Programs\\Python\\Python310\\lib\\site-packages\\seaborn\\distributions.py:2619: FutureWarning: `distplot` is a deprecated function and will be removed in a future version. Please adapt your code to use either `displot` (a figure-level function with similar flexibility) or `histplot` (an axes-level function for histograms).\n",
      "  warnings.warn(msg, FutureWarning)\n"
     ]
    },
    {
     "data": {
      "text/plain": [
       "<seaborn.axisgrid.FacetGrid at 0x183f586a710>"
      ]
     },
     "execution_count": 527,
     "metadata": {},
     "output_type": "execute_result"
    },
    {
     "data": {
      "image/png": "[encoded data removed]",
      "text/plain": [
       "<Figure size 1200x600 with 7 Axes>"
      ]
     },
     "metadata": {},
     "output_type": "display_data"
    }
   ],
   "source": [
    "num = [f for f in df.columns if df.dtypes[f] != 'object']\n",
    "nd = pd.melt(df, value_vars = num)\n",
    "n1 = sns.FacetGrid (nd, col='variable', col_wrap=4, sharex=False, sharey = False)\n",
    "n1 = n1.map(sns.distplot, 'value')\n",
    "n1"
   ]
  },
  {
   "cell_type": "code",
   "execution_count": 528,
   "id": "186fc624",
   "metadata": {},
   "outputs": [
    {
     "data": {
      "image/png": "[encoded data removed]",
      "text/plain": [
       "<Figure size 500x500 with 1 Axes>"
      ]
     },
     "metadata": {},
     "output_type": "display_data"
    },
    {
     "data": {
      "image/png": "[encoded data removed]",
      "text/plain": [
       "<Figure size 500x500 with 1 Axes>"
      ]
     },
     "metadata": {},
     "output_type": "display_data"
    },
    {
     "data": {
      "image/png": "[encoded data removed]",
      "text/plain": [
       "<Figure size 500x500 with 1 Axes>"
      ]
     },
     "metadata": {},
     "output_type": "display_data"
    },
    {
     "data": {
      "image/png": "[encoded data removed]",
      "text/plain": [
       "<Figure size 500x500 with 1 Axes>"
      ]
     },
     "metadata": {},
     "output_type": "display_data"
    },
    {
     "data": {
      "image/png": "[encoded data removed]",
      "text/plain": [
       "<Figure size 500x500 with 1 Axes>"
      ]
     },
     "metadata": {},
     "output_type": "display_data"
    },
    {
     "data": {
      "image/png": "[encoded data removed]",
      "text/plain": [
       "<Figure size 500x500 with 1 Axes>"
      ]
     },
     "metadata": {},
     "output_type": "display_data"
    },
    {
     "data": {
      "image/png": "[encoded data removed]",
      "text/plain": [
       "<Figure size 500x500 with 1 Axes>"
      ]
     },
     "metadata": {},
     "output_type": "display_data"
    }
   ],
   "source": [
    "#sir please explain the information the line give in this graph \n",
    "for value in cols:\n",
    "    sns.lmplot(x=value, y=\"tip\", data=df);"
   ]
  },
  {
   "cell_type": "code",
   "execution_count": null,
   "id": "908122a4",
   "metadata": {},
   "outputs": [],
   "source": []
  },
  {
   "cell_type": "markdown",
   "id": "cd078780",
   "metadata": {},
   "source": [
    "# Checking skewness"
   ]
  },
  {
   "cell_type": "code",
   "execution_count": 529,
   "id": "8558fdbc",
   "metadata": {},
   "outputs": [
    {
     "data": {
      "text/plain": [
       "total_bill    1.133213\n",
       "tip           1.465451\n",
       "size          1.447882\n",
       "sex_new      -0.602658\n",
       "smoker_new    0.492471\n",
       "day_new      -0.057940\n",
       "time_new      0.993335\n",
       "dtype: float64"
      ]
     },
     "execution_count": 529,
     "metadata": {},
     "output_type": "execute_result"
    }
   ],
   "source": [
    "new_df.skew()"
   ]
  },
  {
   "cell_type": "code",
   "execution_count": null,
   "id": "dfac40ac",
   "metadata": {},
   "outputs": [],
   "source": []
  },
  {
   "cell_type": "code",
   "execution_count": 530,
   "id": "15d29137",
   "metadata": {},
   "outputs": [],
   "source": [
    "def right_nor_left(df, col):\n",
    "    \n",
    "    rs = df[value].skew()\n",
    "    print(rs)\n",
    "\n",
    "    if rs > 0:\n",
    "        return \"positive (+ve) skewed\"\n",
    "    \n",
    "    elif rs == 0:\n",
    "        return \"normal skewed\"\n",
    "    \n",
    "    elif rs < 0:\n",
    "        return \"negative (-ve) skewed\"\n",
    "        \n",
    "    "
   ]
  },
  {
   "cell_type": "code",
   "execution_count": 531,
   "id": "63903ba0",
   "metadata": {},
   "outputs": [
    {
     "data": {
      "text/plain": [
       "['total_bill', 'tip', 'size', 'sex_new', 'smoker_new', 'day_new', 'time_new']"
      ]
     },
     "execution_count": 531,
     "metadata": {},
     "output_type": "execute_result"
    }
   ],
   "source": [
    "c=new_df.columns.tolist()\n",
    "c"
   ]
  },
  {
   "cell_type": "code",
   "execution_count": 532,
   "id": "42ffc6fa",
   "metadata": {},
   "outputs": [
    {
     "name": "stdout",
     "output_type": "stream",
     "text": [
      "1.1332130376158205\n",
      "total_bill -> positive (+ve) skewed\n",
      "1.4654510370979401\n",
      "tip -> positive (+ve) skewed\n",
      "1.4478815386834785\n",
      "size -> positive (+ve) skewed\n",
      "-0.6026584794390981\n",
      "sex_new -> negative (-ve) skewed\n",
      "0.49247107735485374\n",
      "smoker_new -> positive (+ve) skewed\n",
      "-0.057940128081996195\n",
      "day_new -> negative (-ve) skewed\n",
      "0.9933347968403005\n",
      "time_new -> positive (+ve) skewed\n"
     ]
    }
   ],
   "source": [
    "for value in c:\n",
    "    \n",
    "    print(value, \"->\",right_nor_left(new_df,value))"
   ]
  },
  {
   "cell_type": "code",
   "execution_count": null,
   "id": "743d52bf",
   "metadata": {},
   "outputs": [],
   "source": []
  },
  {
   "cell_type": "code",
   "execution_count": 533,
   "id": "c0b6e39b",
   "metadata": {},
   "outputs": [
    {
     "name": "stdout",
     "output_type": "stream",
     "text": [
      "<class 'pandas.core.frame.DataFrame'>\n",
      "RangeIndex: 244 entries, 0 to 243\n",
      "Data columns (total 7 columns):\n",
      " #   Column      Non-Null Count  Dtype  \n",
      "---  ------      --------------  -----  \n",
      " 0   total_bill  244 non-null    float64\n",
      " 1   tip         244 non-null    float64\n",
      " 2   size        244 non-null    int64  \n",
      " 3   sex_new     244 non-null    int32  \n",
      " 4   smoker_new  244 non-null    int32  \n",
      " 5   day_new     244 non-null    int32  \n",
      " 6   time_new    244 non-null    int32  \n",
      "dtypes: float64(2), int32(4), int64(1)\n",
      "memory usage: 9.7 KB\n"
     ]
    }
   ],
   "source": [
    "new_df.info()"
   ]
  },
  {
   "cell_type": "code",
   "execution_count": null,
   "id": "544433b9",
   "metadata": {},
   "outputs": [],
   "source": []
  },
  {
   "cell_type": "code",
   "execution_count": 534,
   "id": "15cbc1ff",
   "metadata": {},
   "outputs": [
    {
     "data": {
      "text/plain": [
       "total_bill    0\n",
       "tip           0\n",
       "size          0\n",
       "sex_new       0\n",
       "smoker_new    0\n",
       "day_new       0\n",
       "time_new      0\n",
       "dtype: int64"
      ]
     },
     "execution_count": 534,
     "metadata": {},
     "output_type": "execute_result"
    }
   ],
   "source": [
    "new_df.isnull().sum()"
   ]
  },
  {
   "cell_type": "code",
   "execution_count": 535,
   "id": "516e5ddf",
   "metadata": {},
   "outputs": [
    {
     "data": {
      "text/plain": [
       "total_bill    0\n",
       "tip           0\n",
       "size          0\n",
       "sex_new       0\n",
       "smoker_new    0\n",
       "day_new       0\n",
       "time_new      0\n",
       "dtype: int64"
      ]
     },
     "execution_count": 535,
     "metadata": {},
     "output_type": "execute_result"
    }
   ],
   "source": [
    "new_df.isna().sum()"
   ]
  },
  {
   "cell_type": "code",
   "execution_count": null,
   "id": "9e82500f",
   "metadata": {},
   "outputs": [],
   "source": []
  },
  {
   "cell_type": "markdown",
   "id": "7a4f37bc",
   "metadata": {},
   "source": [
    "# Prediction"
   ]
  },
  {
   "cell_type": "code",
   "execution_count": 536,
   "id": "f467b71b",
   "metadata": {},
   "outputs": [],
   "source": [
    "from sklearn.model_selection import train_test_split\n",
    "from sklearn.linear_model import LinearRegression\n",
    "from sklearn.metrics import r2_score\n",
    "import pickle"
   ]
  },
  {
   "cell_type": "code",
   "execution_count": null,
   "id": "89db2d48",
   "metadata": {},
   "outputs": [],
   "source": []
  },
  {
   "cell_type": "code",
   "execution_count": 537,
   "id": "0839a9c0",
   "metadata": {},
   "outputs": [],
   "source": [
    "x=new_df.drop(['tip'],axis=1)"
   ]
  },
  {
   "cell_type": "code",
   "execution_count": 538,
   "id": "1d9c0be8",
   "metadata": {},
   "outputs": [
    {
     "data": {
      "text/html": [
       "<div>\n",
       "<style scoped>\n",
       "    .dataframe tbody tr th:only-of-type {\n",
       "        vertical-align: middle;\n",
       "    }\n",
       "\n",
       "    .dataframe tbody tr th {\n",
       "        vertical-align: top;\n",
       "    }\n",
       "\n",
       "    .dataframe thead th {\n",
       "        text-align: right;\n",
       "    }\n",
       "</style>\n",
       "<table border=\"1\" class=\"dataframe\">\n",
       "  <thead>\n",
       "    <tr style=\"text-align: right;\">\n",
       "      <th></th>\n",
       "      <th>total_bill</th>\n",
       "      <th>size</th>\n",
       "      <th>sex_new</th>\n",
       "      <th>smoker_new</th>\n",
       "      <th>day_new</th>\n",
       "      <th>time_new</th>\n",
       "    </tr>\n",
       "  </thead>\n",
       "  <tbody>\n",
       "    <tr>\n",
       "      <th>0</th>\n",
       "      <td>16.99</td>\n",
       "      <td>2</td>\n",
       "      <td>0</td>\n",
       "      <td>0</td>\n",
       "      <td>2</td>\n",
       "      <td>0</td>\n",
       "    </tr>\n",
       "    <tr>\n",
       "      <th>1</th>\n",
       "      <td>10.34</td>\n",
       "      <td>3</td>\n",
       "      <td>1</td>\n",
       "      <td>0</td>\n",
       "      <td>2</td>\n",
       "      <td>0</td>\n",
       "    </tr>\n",
       "    <tr>\n",
       "      <th>2</th>\n",
       "      <td>21.01</td>\n",
       "      <td>3</td>\n",
       "      <td>1</td>\n",
       "      <td>0</td>\n",
       "      <td>2</td>\n",
       "      <td>0</td>\n",
       "    </tr>\n",
       "    <tr>\n",
       "      <th>3</th>\n",
       "      <td>23.68</td>\n",
       "      <td>2</td>\n",
       "      <td>1</td>\n",
       "      <td>0</td>\n",
       "      <td>2</td>\n",
       "      <td>0</td>\n",
       "    </tr>\n",
       "    <tr>\n",
       "      <th>4</th>\n",
       "      <td>24.59</td>\n",
       "      <td>4</td>\n",
       "      <td>0</td>\n",
       "      <td>0</td>\n",
       "      <td>2</td>\n",
       "      <td>0</td>\n",
       "    </tr>\n",
       "    <tr>\n",
       "      <th>...</th>\n",
       "      <td>...</td>\n",
       "      <td>...</td>\n",
       "      <td>...</td>\n",
       "      <td>...</td>\n",
       "      <td>...</td>\n",
       "      <td>...</td>\n",
       "    </tr>\n",
       "    <tr>\n",
       "      <th>239</th>\n",
       "      <td>29.03</td>\n",
       "      <td>3</td>\n",
       "      <td>1</td>\n",
       "      <td>0</td>\n",
       "      <td>1</td>\n",
       "      <td>0</td>\n",
       "    </tr>\n",
       "    <tr>\n",
       "      <th>240</th>\n",
       "      <td>27.18</td>\n",
       "      <td>2</td>\n",
       "      <td>0</td>\n",
       "      <td>1</td>\n",
       "      <td>1</td>\n",
       "      <td>0</td>\n",
       "    </tr>\n",
       "    <tr>\n",
       "      <th>241</th>\n",
       "      <td>22.67</td>\n",
       "      <td>2</td>\n",
       "      <td>1</td>\n",
       "      <td>1</td>\n",
       "      <td>1</td>\n",
       "      <td>0</td>\n",
       "    </tr>\n",
       "    <tr>\n",
       "      <th>242</th>\n",
       "      <td>17.82</td>\n",
       "      <td>2</td>\n",
       "      <td>1</td>\n",
       "      <td>0</td>\n",
       "      <td>1</td>\n",
       "      <td>0</td>\n",
       "    </tr>\n",
       "    <tr>\n",
       "      <th>243</th>\n",
       "      <td>18.78</td>\n",
       "      <td>2</td>\n",
       "      <td>0</td>\n",
       "      <td>0</td>\n",
       "      <td>3</td>\n",
       "      <td>0</td>\n",
       "    </tr>\n",
       "  </tbody>\n",
       "</table>\n",
       "<p>244 rows × 6 columns</p>\n",
       "</div>"
      ],
      "text/plain": [
       "     total_bill  size  sex_new  smoker_new  day_new  time_new\n",
       "0         16.99     2        0           0        2         0\n",
       "1         10.34     3        1           0        2         0\n",
       "2         21.01     3        1           0        2         0\n",
       "3         23.68     2        1           0        2         0\n",
       "4         24.59     4        0           0        2         0\n",
       "..          ...   ...      ...         ...      ...       ...\n",
       "239       29.03     3        1           0        1         0\n",
       "240       27.18     2        0           1        1         0\n",
       "241       22.67     2        1           1        1         0\n",
       "242       17.82     2        1           0        1         0\n",
       "243       18.78     2        0           0        3         0\n",
       "\n",
       "[244 rows x 6 columns]"
      ]
     },
     "execution_count": 538,
     "metadata": {},
     "output_type": "execute_result"
    }
   ],
   "source": [
    "x"
   ]
  },
  {
   "cell_type": "code",
   "execution_count": 539,
   "id": "ee0d0eed",
   "metadata": {},
   "outputs": [],
   "source": [
    "y=new_df['tip']"
   ]
  },
  {
   "cell_type": "code",
   "execution_count": 540,
   "id": "4f88d382",
   "metadata": {},
   "outputs": [
    {
     "data": {
      "text/plain": [
       "0      1.01\n",
       "1      1.66\n",
       "2      3.50\n",
       "3      3.31\n",
       "4      3.61\n",
       "       ... \n",
       "239    5.92\n",
       "240    2.00\n",
       "241    2.00\n",
       "242    1.75\n",
       "243    3.00\n",
       "Name: tip, Length: 244, dtype: float64"
      ]
     },
     "execution_count": 540,
     "metadata": {},
     "output_type": "execute_result"
    }
   ],
   "source": [
    "y"
   ]
  },
  {
   "cell_type": "code",
   "execution_count": null,
   "id": "db792d8a",
   "metadata": {},
   "outputs": [],
   "source": []
  },
  {
   "cell_type": "code",
   "execution_count": 541,
   "id": "b540ee21",
   "metadata": {},
   "outputs": [],
   "source": [
    "x_train,x_test,y_train,y_test=train_test_split(x,y,test_size=0.30,random_state=42)"
   ]
  },
  {
   "cell_type": "code",
   "execution_count": 542,
   "id": "87812568",
   "metadata": {},
   "outputs": [
    {
     "data": {
      "text/html": [
       "<div>\n",
       "<style scoped>\n",
       "    .dataframe tbody tr th:only-of-type {\n",
       "        vertical-align: middle;\n",
       "    }\n",
       "\n",
       "    .dataframe tbody tr th {\n",
       "        vertical-align: top;\n",
       "    }\n",
       "\n",
       "    .dataframe thead th {\n",
       "        text-align: right;\n",
       "    }\n",
       "</style>\n",
       "<table border=\"1\" class=\"dataframe\">\n",
       "  <thead>\n",
       "    <tr style=\"text-align: right;\">\n",
       "      <th></th>\n",
       "      <th>total_bill</th>\n",
       "      <th>size</th>\n",
       "      <th>sex_new</th>\n",
       "      <th>smoker_new</th>\n",
       "      <th>day_new</th>\n",
       "      <th>time_new</th>\n",
       "    </tr>\n",
       "  </thead>\n",
       "  <tbody>\n",
       "    <tr>\n",
       "      <th>234</th>\n",
       "      <td>15.53</td>\n",
       "      <td>2</td>\n",
       "      <td>1</td>\n",
       "      <td>1</td>\n",
       "      <td>1</td>\n",
       "      <td>0</td>\n",
       "    </tr>\n",
       "    <tr>\n",
       "      <th>227</th>\n",
       "      <td>20.45</td>\n",
       "      <td>4</td>\n",
       "      <td>1</td>\n",
       "      <td>0</td>\n",
       "      <td>1</td>\n",
       "      <td>0</td>\n",
       "    </tr>\n",
       "    <tr>\n",
       "      <th>180</th>\n",
       "      <td>34.65</td>\n",
       "      <td>4</td>\n",
       "      <td>1</td>\n",
       "      <td>1</td>\n",
       "      <td>2</td>\n",
       "      <td>0</td>\n",
       "    </tr>\n",
       "    <tr>\n",
       "      <th>5</th>\n",
       "      <td>25.29</td>\n",
       "      <td>4</td>\n",
       "      <td>1</td>\n",
       "      <td>0</td>\n",
       "      <td>2</td>\n",
       "      <td>0</td>\n",
       "    </tr>\n",
       "    <tr>\n",
       "      <th>56</th>\n",
       "      <td>38.01</td>\n",
       "      <td>4</td>\n",
       "      <td>1</td>\n",
       "      <td>1</td>\n",
       "      <td>1</td>\n",
       "      <td>0</td>\n",
       "    </tr>\n",
       "    <tr>\n",
       "      <th>...</th>\n",
       "      <td>...</td>\n",
       "      <td>...</td>\n",
       "      <td>...</td>\n",
       "      <td>...</td>\n",
       "      <td>...</td>\n",
       "      <td>...</td>\n",
       "    </tr>\n",
       "    <tr>\n",
       "      <th>106</th>\n",
       "      <td>20.49</td>\n",
       "      <td>2</td>\n",
       "      <td>1</td>\n",
       "      <td>1</td>\n",
       "      <td>1</td>\n",
       "      <td>0</td>\n",
       "    </tr>\n",
       "    <tr>\n",
       "      <th>14</th>\n",
       "      <td>14.83</td>\n",
       "      <td>2</td>\n",
       "      <td>0</td>\n",
       "      <td>0</td>\n",
       "      <td>2</td>\n",
       "      <td>0</td>\n",
       "    </tr>\n",
       "    <tr>\n",
       "      <th>92</th>\n",
       "      <td>5.75</td>\n",
       "      <td>2</td>\n",
       "      <td>0</td>\n",
       "      <td>1</td>\n",
       "      <td>0</td>\n",
       "      <td>0</td>\n",
       "    </tr>\n",
       "    <tr>\n",
       "      <th>179</th>\n",
       "      <td>34.63</td>\n",
       "      <td>2</td>\n",
       "      <td>1</td>\n",
       "      <td>1</td>\n",
       "      <td>2</td>\n",
       "      <td>0</td>\n",
       "    </tr>\n",
       "    <tr>\n",
       "      <th>102</th>\n",
       "      <td>44.30</td>\n",
       "      <td>3</td>\n",
       "      <td>0</td>\n",
       "      <td>1</td>\n",
       "      <td>1</td>\n",
       "      <td>0</td>\n",
       "    </tr>\n",
       "  </tbody>\n",
       "</table>\n",
       "<p>170 rows × 6 columns</p>\n",
       "</div>"
      ],
      "text/plain": [
       "     total_bill  size  sex_new  smoker_new  day_new  time_new\n",
       "234       15.53     2        1           1        1         0\n",
       "227       20.45     4        1           0        1         0\n",
       "180       34.65     4        1           1        2         0\n",
       "5         25.29     4        1           0        2         0\n",
       "56        38.01     4        1           1        1         0\n",
       "..          ...   ...      ...         ...      ...       ...\n",
       "106       20.49     2        1           1        1         0\n",
       "14        14.83     2        0           0        2         0\n",
       "92         5.75     2        0           1        0         0\n",
       "179       34.63     2        1           1        2         0\n",
       "102       44.30     3        0           1        1         0\n",
       "\n",
       "[170 rows x 6 columns]"
      ]
     },
     "execution_count": 542,
     "metadata": {},
     "output_type": "execute_result"
    }
   ],
   "source": [
    "x_train"
   ]
  },
  {
   "cell_type": "code",
   "execution_count": 543,
   "id": "49593ce2",
   "metadata": {},
   "outputs": [
    {
     "data": {
      "text/html": [
       "<div>\n",
       "<style scoped>\n",
       "    .dataframe tbody tr th:only-of-type {\n",
       "        vertical-align: middle;\n",
       "    }\n",
       "\n",
       "    .dataframe tbody tr th {\n",
       "        vertical-align: top;\n",
       "    }\n",
       "\n",
       "    .dataframe thead th {\n",
       "        text-align: right;\n",
       "    }\n",
       "</style>\n",
       "<table border=\"1\" class=\"dataframe\">\n",
       "  <thead>\n",
       "    <tr style=\"text-align: right;\">\n",
       "      <th></th>\n",
       "      <th>total_bill</th>\n",
       "      <th>size</th>\n",
       "      <th>sex_new</th>\n",
       "      <th>smoker_new</th>\n",
       "      <th>day_new</th>\n",
       "      <th>time_new</th>\n",
       "    </tr>\n",
       "  </thead>\n",
       "  <tbody>\n",
       "    <tr>\n",
       "      <th>24</th>\n",
       "      <td>19.82</td>\n",
       "      <td>2</td>\n",
       "      <td>1</td>\n",
       "      <td>0</td>\n",
       "      <td>1</td>\n",
       "      <td>0</td>\n",
       "    </tr>\n",
       "    <tr>\n",
       "      <th>6</th>\n",
       "      <td>8.77</td>\n",
       "      <td>2</td>\n",
       "      <td>1</td>\n",
       "      <td>0</td>\n",
       "      <td>2</td>\n",
       "      <td>0</td>\n",
       "    </tr>\n",
       "    <tr>\n",
       "      <th>153</th>\n",
       "      <td>24.55</td>\n",
       "      <td>4</td>\n",
       "      <td>1</td>\n",
       "      <td>0</td>\n",
       "      <td>2</td>\n",
       "      <td>0</td>\n",
       "    </tr>\n",
       "    <tr>\n",
       "      <th>211</th>\n",
       "      <td>25.89</td>\n",
       "      <td>4</td>\n",
       "      <td>1</td>\n",
       "      <td>1</td>\n",
       "      <td>1</td>\n",
       "      <td>0</td>\n",
       "    </tr>\n",
       "    <tr>\n",
       "      <th>198</th>\n",
       "      <td>13.00</td>\n",
       "      <td>2</td>\n",
       "      <td>0</td>\n",
       "      <td>1</td>\n",
       "      <td>3</td>\n",
       "      <td>1</td>\n",
       "    </tr>\n",
       "    <tr>\n",
       "      <th>...</th>\n",
       "      <td>...</td>\n",
       "      <td>...</td>\n",
       "      <td>...</td>\n",
       "      <td>...</td>\n",
       "      <td>...</td>\n",
       "      <td>...</td>\n",
       "    </tr>\n",
       "    <tr>\n",
       "      <th>165</th>\n",
       "      <td>24.52</td>\n",
       "      <td>3</td>\n",
       "      <td>1</td>\n",
       "      <td>0</td>\n",
       "      <td>2</td>\n",
       "      <td>0</td>\n",
       "    </tr>\n",
       "    <tr>\n",
       "      <th>154</th>\n",
       "      <td>19.77</td>\n",
       "      <td>4</td>\n",
       "      <td>1</td>\n",
       "      <td>0</td>\n",
       "      <td>2</td>\n",
       "      <td>0</td>\n",
       "    </tr>\n",
       "    <tr>\n",
       "      <th>216</th>\n",
       "      <td>28.15</td>\n",
       "      <td>5</td>\n",
       "      <td>1</td>\n",
       "      <td>1</td>\n",
       "      <td>1</td>\n",
       "      <td>0</td>\n",
       "    </tr>\n",
       "    <tr>\n",
       "      <th>79</th>\n",
       "      <td>17.29</td>\n",
       "      <td>2</td>\n",
       "      <td>1</td>\n",
       "      <td>0</td>\n",
       "      <td>3</td>\n",
       "      <td>1</td>\n",
       "    </tr>\n",
       "    <tr>\n",
       "      <th>29</th>\n",
       "      <td>19.65</td>\n",
       "      <td>2</td>\n",
       "      <td>0</td>\n",
       "      <td>0</td>\n",
       "      <td>1</td>\n",
       "      <td>0</td>\n",
       "    </tr>\n",
       "  </tbody>\n",
       "</table>\n",
       "<p>74 rows × 6 columns</p>\n",
       "</div>"
      ],
      "text/plain": [
       "     total_bill  size  sex_new  smoker_new  day_new  time_new\n",
       "24        19.82     2        1           0        1         0\n",
       "6          8.77     2        1           0        2         0\n",
       "153       24.55     4        1           0        2         0\n",
       "211       25.89     4        1           1        1         0\n",
       "198       13.00     2        0           1        3         1\n",
       "..          ...   ...      ...         ...      ...       ...\n",
       "165       24.52     3        1           0        2         0\n",
       "154       19.77     4        1           0        2         0\n",
       "216       28.15     5        1           1        1         0\n",
       "79        17.29     2        1           0        3         1\n",
       "29        19.65     2        0           0        1         0\n",
       "\n",
       "[74 rows x 6 columns]"
      ]
     },
     "execution_count": 543,
     "metadata": {},
     "output_type": "execute_result"
    }
   ],
   "source": [
    " x_test "
   ]
  },
  {
   "cell_type": "code",
   "execution_count": 544,
   "id": "e7752c76",
   "metadata": {},
   "outputs": [
    {
     "data": {
      "text/plain": [
       "234    3.00\n",
       "227    3.00\n",
       "180    3.68\n",
       "5      4.71\n",
       "56     3.00\n",
       "       ... \n",
       "106    4.06\n",
       "14     3.02\n",
       "92     1.00\n",
       "179    3.55\n",
       "102    2.50\n",
       "Name: tip, Length: 170, dtype: float64"
      ]
     },
     "execution_count": 544,
     "metadata": {},
     "output_type": "execute_result"
    }
   ],
   "source": [
    "y_train "
   ]
  },
  {
   "cell_type": "code",
   "execution_count": 545,
   "id": "2defb8c9",
   "metadata": {},
   "outputs": [
    {
     "data": {
      "text/plain": [
       "24     3.18\n",
       "6      2.00\n",
       "153    2.00\n",
       "211    5.16\n",
       "198    2.00\n",
       "       ... \n",
       "165    3.48\n",
       "154    2.00\n",
       "216    3.00\n",
       "79     2.71\n",
       "29     3.00\n",
       "Name: tip, Length: 74, dtype: float64"
      ]
     },
     "execution_count": 545,
     "metadata": {},
     "output_type": "execute_result"
    }
   ],
   "source": [
    "y_test"
   ]
  },
  {
   "cell_type": "code",
   "execution_count": null,
   "id": "b86b3293",
   "metadata": {},
   "outputs": [],
   "source": []
  },
  {
   "cell_type": "code",
   "execution_count": 546,
   "id": "f797a65a",
   "metadata": {},
   "outputs": [],
   "source": [
    "re=LinearRegression()"
   ]
  },
  {
   "cell_type": "code",
   "execution_count": 547,
   "id": "6cb12eb5",
   "metadata": {},
   "outputs": [],
   "source": [
    "re_train=re.fit(x_train,y_train)"
   ]
  },
  {
   "cell_type": "code",
   "execution_count": 548,
   "id": "4fe3c89f",
   "metadata": {},
   "outputs": [],
   "source": [
    "pred=re_train.predict(x_test)"
   ]
  },
  {
   "cell_type": "code",
   "execution_count": 549,
   "id": "67f815d2",
   "metadata": {},
   "outputs": [
    {
     "data": {
      "text/plain": [
       "(array([3.02176828, 1.87633238, 3.94167778, 3.84975127, 2.0504171 ,\n",
       "        2.45261736, 3.6084352 , 2.30245754, 2.455197  , 2.302245  ,\n",
       "        2.79326935, 2.15010026, 2.12619759, 2.1241767 , 1.79760149,\n",
       "        3.16850198, 2.94400398, 3.11015198, 2.62629526, 5.95679789,\n",
       "        3.58014354, 3.37444361, 2.11805185, 2.03259363, 2.94437851,\n",
       "        2.29725221, 2.02080774, 3.17464834, 3.1653635 , 6.76214774,\n",
       "        4.97115009, 1.5561348 , 3.37363588, 2.764912  , 2.86797829,\n",
       "        3.96519826, 2.0504684 , 5.4959838 , 2.36795303, 2.99414624,\n",
       "        2.12505786, 2.49894403, 3.33842305, 2.22843402, 1.86509916,\n",
       "        0.76271751, 1.75975295, 3.18566247, 1.89946338, 2.3918557 ,\n",
       "        3.14825329, 3.51930125, 4.63130685, 2.71045175, 2.90884964,\n",
       "        2.42631687, 1.42780546, 2.82913446, 2.96679523, 2.59458652,\n",
       "        4.65400466, 2.62799374, 2.97658134, 2.60877557, 3.06125821,\n",
       "        3.05683184, 2.25635872, 1.46744741, 3.64444082, 3.66605598,\n",
       "        3.48128296, 4.34015978, 2.8366269 , 2.93450937]),\n",
       " 24     3.18\n",
       " 6      2.00\n",
       " 153    2.00\n",
       " 211    5.16\n",
       " 198    2.00\n",
       "        ... \n",
       " 165    3.48\n",
       " 154    2.00\n",
       " 216    3.00\n",
       " 79     2.71\n",
       " 29     3.00\n",
       " Name: tip, Length: 74, dtype: float64)"
      ]
     },
     "execution_count": 549,
     "metadata": {},
     "output_type": "execute_result"
    }
   ],
   "source": [
    "pred,y_test"
   ]
  },
  {
   "cell_type": "code",
   "execution_count": null,
   "id": "c27015f5",
   "metadata": {},
   "outputs": [],
   "source": []
  },
  {
   "cell_type": "code",
   "execution_count": 550,
   "id": "e6171c67",
   "metadata": {},
   "outputs": [
    {
     "data": {
      "text/plain": [
       "29.114265145467975"
      ]
     },
     "execution_count": 550,
     "metadata": {},
     "output_type": "execute_result"
    }
   ],
   "source": [
    "r2_score(y_test,pred)*100"
   ]
  },
  {
   "cell_type": "code",
   "execution_count": 551,
   "id": "f1dc9dae",
   "metadata": {},
   "outputs": [
    {
     "data": {
      "text/plain": [
       "93.44080935297544"
      ]
     },
     "execution_count": 551,
     "metadata": {},
     "output_type": "execute_result"
    }
   ],
   "source": [
    "mean_squared_error(y_test, pred)*100"
   ]
  },
  {
   "cell_type": "code",
   "execution_count": null,
   "id": "7f022a23",
   "metadata": {},
   "outputs": [],
   "source": []
  },
  {
   "cell_type": "markdown",
   "id": "553d6bfa",
   "metadata": {},
   "source": [
    "# Again Try prediction after removing the columns which have corelation value near 0"
   ]
  },
  {
   "cell_type": "code",
   "execution_count": 552,
   "id": "d93d2938",
   "metadata": {},
   "outputs": [
    {
     "data": {
      "text/html": [
       "<div>\n",
       "<style scoped>\n",
       "    .dataframe tbody tr th:only-of-type {\n",
       "        vertical-align: middle;\n",
       "    }\n",
       "\n",
       "    .dataframe tbody tr th {\n",
       "        vertical-align: top;\n",
       "    }\n",
       "\n",
       "    .dataframe thead th {\n",
       "        text-align: right;\n",
       "    }\n",
       "</style>\n",
       "<table border=\"1\" class=\"dataframe\">\n",
       "  <thead>\n",
       "    <tr style=\"text-align: right;\">\n",
       "      <th></th>\n",
       "      <th>total_bill</th>\n",
       "      <th>tip</th>\n",
       "      <th>size</th>\n",
       "      <th>sex_new</th>\n",
       "      <th>smoker_new</th>\n",
       "      <th>day_new</th>\n",
       "      <th>time_new</th>\n",
       "    </tr>\n",
       "  </thead>\n",
       "  <tbody>\n",
       "    <tr>\n",
       "      <th>0</th>\n",
       "      <td>16.99</td>\n",
       "      <td>1.01</td>\n",
       "      <td>2</td>\n",
       "      <td>0</td>\n",
       "      <td>0</td>\n",
       "      <td>2</td>\n",
       "      <td>0</td>\n",
       "    </tr>\n",
       "    <tr>\n",
       "      <th>1</th>\n",
       "      <td>10.34</td>\n",
       "      <td>1.66</td>\n",
       "      <td>3</td>\n",
       "      <td>1</td>\n",
       "      <td>0</td>\n",
       "      <td>2</td>\n",
       "      <td>0</td>\n",
       "    </tr>\n",
       "    <tr>\n",
       "      <th>2</th>\n",
       "      <td>21.01</td>\n",
       "      <td>3.50</td>\n",
       "      <td>3</td>\n",
       "      <td>1</td>\n",
       "      <td>0</td>\n",
       "      <td>2</td>\n",
       "      <td>0</td>\n",
       "    </tr>\n",
       "    <tr>\n",
       "      <th>3</th>\n",
       "      <td>23.68</td>\n",
       "      <td>3.31</td>\n",
       "      <td>2</td>\n",
       "      <td>1</td>\n",
       "      <td>0</td>\n",
       "      <td>2</td>\n",
       "      <td>0</td>\n",
       "    </tr>\n",
       "    <tr>\n",
       "      <th>4</th>\n",
       "      <td>24.59</td>\n",
       "      <td>3.61</td>\n",
       "      <td>4</td>\n",
       "      <td>0</td>\n",
       "      <td>0</td>\n",
       "      <td>2</td>\n",
       "      <td>0</td>\n",
       "    </tr>\n",
       "    <tr>\n",
       "      <th>...</th>\n",
       "      <td>...</td>\n",
       "      <td>...</td>\n",
       "      <td>...</td>\n",
       "      <td>...</td>\n",
       "      <td>...</td>\n",
       "      <td>...</td>\n",
       "      <td>...</td>\n",
       "    </tr>\n",
       "    <tr>\n",
       "      <th>239</th>\n",
       "      <td>29.03</td>\n",
       "      <td>5.92</td>\n",
       "      <td>3</td>\n",
       "      <td>1</td>\n",
       "      <td>0</td>\n",
       "      <td>1</td>\n",
       "      <td>0</td>\n",
       "    </tr>\n",
       "    <tr>\n",
       "      <th>240</th>\n",
       "      <td>27.18</td>\n",
       "      <td>2.00</td>\n",
       "      <td>2</td>\n",
       "      <td>0</td>\n",
       "      <td>1</td>\n",
       "      <td>1</td>\n",
       "      <td>0</td>\n",
       "    </tr>\n",
       "    <tr>\n",
       "      <th>241</th>\n",
       "      <td>22.67</td>\n",
       "      <td>2.00</td>\n",
       "      <td>2</td>\n",
       "      <td>1</td>\n",
       "      <td>1</td>\n",
       "      <td>1</td>\n",
       "      <td>0</td>\n",
       "    </tr>\n",
       "    <tr>\n",
       "      <th>242</th>\n",
       "      <td>17.82</td>\n",
       "      <td>1.75</td>\n",
       "      <td>2</td>\n",
       "      <td>1</td>\n",
       "      <td>0</td>\n",
       "      <td>1</td>\n",
       "      <td>0</td>\n",
       "    </tr>\n",
       "    <tr>\n",
       "      <th>243</th>\n",
       "      <td>18.78</td>\n",
       "      <td>3.00</td>\n",
       "      <td>2</td>\n",
       "      <td>0</td>\n",
       "      <td>0</td>\n",
       "      <td>3</td>\n",
       "      <td>0</td>\n",
       "    </tr>\n",
       "  </tbody>\n",
       "</table>\n",
       "<p>244 rows × 7 columns</p>\n",
       "</div>"
      ],
      "text/plain": [
       "     total_bill   tip  size  sex_new  smoker_new  day_new  time_new\n",
       "0         16.99  1.01     2        0           0        2         0\n",
       "1         10.34  1.66     3        1           0        2         0\n",
       "2         21.01  3.50     3        1           0        2         0\n",
       "3         23.68  3.31     2        1           0        2         0\n",
       "4         24.59  3.61     4        0           0        2         0\n",
       "..          ...   ...   ...      ...         ...      ...       ...\n",
       "239       29.03  5.92     3        1           0        1         0\n",
       "240       27.18  2.00     2        0           1        1         0\n",
       "241       22.67  2.00     2        1           1        1         0\n",
       "242       17.82  1.75     2        1           0        1         0\n",
       "243       18.78  3.00     2        0           0        3         0\n",
       "\n",
       "[244 rows x 7 columns]"
      ]
     },
     "execution_count": 552,
     "metadata": {},
     "output_type": "execute_result"
    }
   ],
   "source": [
    "new_df"
   ]
  },
  {
   "cell_type": "code",
   "execution_count": 553,
   "id": "b6cdaa17",
   "metadata": {},
   "outputs": [
    {
     "data": {
      "text/html": [
       "<div>\n",
       "<style scoped>\n",
       "    .dataframe tbody tr th:only-of-type {\n",
       "        vertical-align: middle;\n",
       "    }\n",
       "\n",
       "    .dataframe tbody tr th {\n",
       "        vertical-align: top;\n",
       "    }\n",
       "\n",
       "    .dataframe thead th {\n",
       "        text-align: right;\n",
       "    }\n",
       "</style>\n",
       "<table border=\"1\" class=\"dataframe\">\n",
       "  <thead>\n",
       "    <tr style=\"text-align: right;\">\n",
       "      <th></th>\n",
       "      <th>total_bill</th>\n",
       "      <th>tip</th>\n",
       "      <th>size</th>\n",
       "      <th>sex_new</th>\n",
       "      <th>smoker_new</th>\n",
       "      <th>day_new</th>\n",
       "      <th>time_new</th>\n",
       "    </tr>\n",
       "  </thead>\n",
       "  <tbody>\n",
       "    <tr>\n",
       "      <th>total_bill</th>\n",
       "      <td>1.000000</td>\n",
       "      <td>0.675734</td>\n",
       "      <td>0.598315</td>\n",
       "      <td>0.144877</td>\n",
       "      <td>0.085721</td>\n",
       "      <td>-0.043550</td>\n",
       "      <td>-0.183118</td>\n",
       "    </tr>\n",
       "    <tr>\n",
       "      <th>tip</th>\n",
       "      <td>0.675734</td>\n",
       "      <td>1.000000</td>\n",
       "      <td>0.489299</td>\n",
       "      <td>0.088862</td>\n",
       "      <td>0.005929</td>\n",
       "      <td>-0.011548</td>\n",
       "      <td>-0.121629</td>\n",
       "    </tr>\n",
       "    <tr>\n",
       "      <th>size</th>\n",
       "      <td>0.598315</td>\n",
       "      <td>0.489299</td>\n",
       "      <td>1.000000</td>\n",
       "      <td>0.086195</td>\n",
       "      <td>-0.133178</td>\n",
       "      <td>0.069510</td>\n",
       "      <td>-0.103411</td>\n",
       "    </tr>\n",
       "    <tr>\n",
       "      <th>sex_new</th>\n",
       "      <td>0.144877</td>\n",
       "      <td>0.088862</td>\n",
       "      <td>0.086195</td>\n",
       "      <td>1.000000</td>\n",
       "      <td>0.002816</td>\n",
       "      <td>-0.078292</td>\n",
       "      <td>-0.205231</td>\n",
       "    </tr>\n",
       "    <tr>\n",
       "      <th>smoker_new</th>\n",
       "      <td>0.085721</td>\n",
       "      <td>0.005929</td>\n",
       "      <td>-0.133178</td>\n",
       "      <td>0.002816</td>\n",
       "      <td>1.000000</td>\n",
       "      <td>-0.282721</td>\n",
       "      <td>-0.054921</td>\n",
       "    </tr>\n",
       "    <tr>\n",
       "      <th>day_new</th>\n",
       "      <td>-0.043550</td>\n",
       "      <td>-0.011548</td>\n",
       "      <td>0.069510</td>\n",
       "      <td>-0.078292</td>\n",
       "      <td>-0.282721</td>\n",
       "      <td>1.000000</td>\n",
       "      <td>0.638019</td>\n",
       "    </tr>\n",
       "    <tr>\n",
       "      <th>time_new</th>\n",
       "      <td>-0.183118</td>\n",
       "      <td>-0.121629</td>\n",
       "      <td>-0.103411</td>\n",
       "      <td>-0.205231</td>\n",
       "      <td>-0.054921</td>\n",
       "      <td>0.638019</td>\n",
       "      <td>1.000000</td>\n",
       "    </tr>\n",
       "  </tbody>\n",
       "</table>\n",
       "</div>"
      ],
      "text/plain": [
       "            total_bill       tip      size   sex_new  smoker_new   day_new  \\\n",
       "total_bill    1.000000  0.675734  0.598315  0.144877    0.085721 -0.043550   \n",
       "tip           0.675734  1.000000  0.489299  0.088862    0.005929 -0.011548   \n",
       "size          0.598315  0.489299  1.000000  0.086195   -0.133178  0.069510   \n",
       "sex_new       0.144877  0.088862  0.086195  1.000000    0.002816 -0.078292   \n",
       "smoker_new    0.085721  0.005929 -0.133178  0.002816    1.000000 -0.282721   \n",
       "day_new      -0.043550 -0.011548  0.069510 -0.078292   -0.282721  1.000000   \n",
       "time_new     -0.183118 -0.121629 -0.103411 -0.205231   -0.054921  0.638019   \n",
       "\n",
       "            time_new  \n",
       "total_bill -0.183118  \n",
       "tip        -0.121629  \n",
       "size       -0.103411  \n",
       "sex_new    -0.205231  \n",
       "smoker_new -0.054921  \n",
       "day_new     0.638019  \n",
       "time_new    1.000000  "
      ]
     },
     "execution_count": 553,
     "metadata": {},
     "output_type": "execute_result"
    }
   ],
   "source": [
    "corr=new_df.corr()\n",
    "corr"
   ]
  },
  {
   "cell_type": "code",
   "execution_count": 554,
   "id": "a6ce8eb0",
   "metadata": {},
   "outputs": [
    {
     "data": {
      "text/plain": [
       "<AxesSubplot:>"
      ]
     },
     "execution_count": 554,
     "metadata": {},
     "output_type": "execute_result"
    },
    {
     "data": {
      "image/png": "[encoded data removed]",
      "text/plain": [
       "<Figure size 1800x1000 with 2 Axes>"
      ]
     },
     "metadata": {},
     "output_type": "display_data"
    }
   ],
   "source": [
    "sns.heatmap(corr)"
   ]
  },
  {
   "cell_type": "code",
   "execution_count": null,
   "id": "09578488",
   "metadata": {},
   "outputs": [],
   "source": []
  },
  {
   "cell_type": "code",
   "execution_count": 555,
   "id": "6f6f77ec",
   "metadata": {},
   "outputs": [],
   "source": [
    "n2_df=new_df.drop(['sex_new','smoker_new','day_new'],axis=1)"
   ]
  },
  {
   "cell_type": "code",
   "execution_count": 556,
   "id": "06e9e6e3",
   "metadata": {},
   "outputs": [
    {
     "data": {
      "text/html": [
       "<div>\n",
       "<style scoped>\n",
       "    .dataframe tbody tr th:only-of-type {\n",
       "        vertical-align: middle;\n",
       "    }\n",
       "\n",
       "    .dataframe tbody tr th {\n",
       "        vertical-align: top;\n",
       "    }\n",
       "\n",
       "    .dataframe thead th {\n",
       "        text-align: right;\n",
       "    }\n",
       "</style>\n",
       "<table border=\"1\" class=\"dataframe\">\n",
       "  <thead>\n",
       "    <tr style=\"text-align: right;\">\n",
       "      <th></th>\n",
       "      <th>total_bill</th>\n",
       "      <th>tip</th>\n",
       "      <th>size</th>\n",
       "      <th>time_new</th>\n",
       "    </tr>\n",
       "  </thead>\n",
       "  <tbody>\n",
       "    <tr>\n",
       "      <th>0</th>\n",
       "      <td>16.99</td>\n",
       "      <td>1.01</td>\n",
       "      <td>2</td>\n",
       "      <td>0</td>\n",
       "    </tr>\n",
       "    <tr>\n",
       "      <th>1</th>\n",
       "      <td>10.34</td>\n",
       "      <td>1.66</td>\n",
       "      <td>3</td>\n",
       "      <td>0</td>\n",
       "    </tr>\n",
       "    <tr>\n",
       "      <th>2</th>\n",
       "      <td>21.01</td>\n",
       "      <td>3.50</td>\n",
       "      <td>3</td>\n",
       "      <td>0</td>\n",
       "    </tr>\n",
       "    <tr>\n",
       "      <th>3</th>\n",
       "      <td>23.68</td>\n",
       "      <td>3.31</td>\n",
       "      <td>2</td>\n",
       "      <td>0</td>\n",
       "    </tr>\n",
       "    <tr>\n",
       "      <th>4</th>\n",
       "      <td>24.59</td>\n",
       "      <td>3.61</td>\n",
       "      <td>4</td>\n",
       "      <td>0</td>\n",
       "    </tr>\n",
       "    <tr>\n",
       "      <th>...</th>\n",
       "      <td>...</td>\n",
       "      <td>...</td>\n",
       "      <td>...</td>\n",
       "      <td>...</td>\n",
       "    </tr>\n",
       "    <tr>\n",
       "      <th>239</th>\n",
       "      <td>29.03</td>\n",
       "      <td>5.92</td>\n",
       "      <td>3</td>\n",
       "      <td>0</td>\n",
       "    </tr>\n",
       "    <tr>\n",
       "      <th>240</th>\n",
       "      <td>27.18</td>\n",
       "      <td>2.00</td>\n",
       "      <td>2</td>\n",
       "      <td>0</td>\n",
       "    </tr>\n",
       "    <tr>\n",
       "      <th>241</th>\n",
       "      <td>22.67</td>\n",
       "      <td>2.00</td>\n",
       "      <td>2</td>\n",
       "      <td>0</td>\n",
       "    </tr>\n",
       "    <tr>\n",
       "      <th>242</th>\n",
       "      <td>17.82</td>\n",
       "      <td>1.75</td>\n",
       "      <td>2</td>\n",
       "      <td>0</td>\n",
       "    </tr>\n",
       "    <tr>\n",
       "      <th>243</th>\n",
       "      <td>18.78</td>\n",
       "      <td>3.00</td>\n",
       "      <td>2</td>\n",
       "      <td>0</td>\n",
       "    </tr>\n",
       "  </tbody>\n",
       "</table>\n",
       "<p>244 rows × 4 columns</p>\n",
       "</div>"
      ],
      "text/plain": [
       "     total_bill   tip  size  time_new\n",
       "0         16.99  1.01     2         0\n",
       "1         10.34  1.66     3         0\n",
       "2         21.01  3.50     3         0\n",
       "3         23.68  3.31     2         0\n",
       "4         24.59  3.61     4         0\n",
       "..          ...   ...   ...       ...\n",
       "239       29.03  5.92     3         0\n",
       "240       27.18  2.00     2         0\n",
       "241       22.67  2.00     2         0\n",
       "242       17.82  1.75     2         0\n",
       "243       18.78  3.00     2         0\n",
       "\n",
       "[244 rows x 4 columns]"
      ]
     },
     "execution_count": 556,
     "metadata": {},
     "output_type": "execute_result"
    }
   ],
   "source": [
    "n2_df"
   ]
  },
  {
   "cell_type": "code",
   "execution_count": null,
   "id": "ed1d7378",
   "metadata": {},
   "outputs": [],
   "source": []
  },
  {
   "cell_type": "code",
   "execution_count": 557,
   "id": "29284dc8",
   "metadata": {},
   "outputs": [],
   "source": [
    "x=n2_df.drop(['tip'],axis=1)"
   ]
  },
  {
   "cell_type": "code",
   "execution_count": 558,
   "id": "96c2f24c",
   "metadata": {},
   "outputs": [],
   "source": [
    "y=n2_df['tip']"
   ]
  },
  {
   "cell_type": "code",
   "execution_count": 559,
   "id": "2370058f",
   "metadata": {},
   "outputs": [],
   "source": [
    "x_train,x_test,y_train,y_test=train_test_split(x,y,test_size=0.30,random_state=42)"
   ]
  },
  {
   "cell_type": "code",
   "execution_count": 560,
   "id": "cf529f79",
   "metadata": {},
   "outputs": [],
   "source": [
    "re_train=re.fit(x_train,y_train)"
   ]
  },
  {
   "cell_type": "code",
   "execution_count": 561,
   "id": "4eefc8c0",
   "metadata": {},
   "outputs": [],
   "source": [
    "pred=re_train.predict(x_test)"
   ]
  },
  {
   "cell_type": "code",
   "execution_count": 562,
   "id": "2c29ef75",
   "metadata": {},
   "outputs": [
    {
     "data": {
      "text/plain": [
       "(array([2.83235831, 1.81004265, 3.88393934, 4.00791246, 2.31301884,\n",
       "        2.65380001, 3.74148524, 2.26490987, 2.36607135, 2.4215817 ,\n",
       "        2.69080691, 1.99507716, 2.09560329, 2.33831617, 1.73495607,\n",
       "        3.14180336, 3.14827957, 2.99518868, 2.52057516, 5.84204186,\n",
       "        3.52682274, 3.21613484, 2.32258824, 1.88220611, 3.23926415,\n",
       "        2.19182123, 1.94881853, 3.33750252, 3.13825027, 6.6831713 ,\n",
       "        4.82778541, 1.71474988, 3.26037305, 2.87584142, 2.87567134,\n",
       "        3.95208443, 2.1116489 , 5.71268778, 2.3278216 , 3.09603248,\n",
       "        1.97102267, 2.45364506, 3.21445457, 2.26135678, 2.06692294,\n",
       "        0.97570709, 1.97842405, 3.03480102, 1.80972497, 2.22729547,\n",
       "        3.24406009, 3.52253703, 4.54636288, 2.58872025, 2.80182762,\n",
       "        2.31579436, 1.66941642, 2.6473238 , 2.90250135, 2.75724926,\n",
       "        4.681268  , 2.60014   , 3.15709387, 2.61555026, 2.87029038,\n",
       "        2.93412729, 2.38735032, 1.36242922, 3.76568733, 3.57417661,\n",
       "        3.44170687, 4.52398866, 2.70991786, 2.81663038]),\n",
       " 24     3.18\n",
       " 6      2.00\n",
       " 153    2.00\n",
       " 211    5.16\n",
       " 198    2.00\n",
       "        ... \n",
       " 165    3.48\n",
       " 154    2.00\n",
       " 216    3.00\n",
       " 79     2.71\n",
       " 29     3.00\n",
       " Name: tip, Length: 74, dtype: float64)"
      ]
     },
     "execution_count": 562,
     "metadata": {},
     "output_type": "execute_result"
    }
   ],
   "source": [
    "pred,y_test"
   ]
  },
  {
   "cell_type": "code",
   "execution_count": 563,
   "id": "00ec0859",
   "metadata": {},
   "outputs": [
    {
     "data": {
      "text/plain": [
       "35.06752486290782"
      ]
     },
     "execution_count": 563,
     "metadata": {},
     "output_type": "execute_result"
    }
   ],
   "source": [
    "r2_score(y_test,pred)*100"
   ]
  },
  {
   "cell_type": "code",
   "execution_count": 564,
   "id": "3e11d653",
   "metadata": {},
   "outputs": [
    {
     "data": {
      "text/plain": [
       "85.59328675301073"
      ]
     },
     "execution_count": 564,
     "metadata": {},
     "output_type": "execute_result"
    }
   ],
   "source": [
    "mean_squared_error(y_test, pred)*100"
   ]
  },
  {
   "cell_type": "code",
   "execution_count": null,
   "id": "01c62f21",
   "metadata": {},
   "outputs": [],
   "source": []
  },
  {
   "cell_type": "markdown",
   "id": "360b773b",
   "metadata": {},
   "source": [
    "# Again try after removing the skewness"
   ]
  },
  {
   "cell_type": "code",
   "execution_count": 565,
   "id": "a0e07cbd",
   "metadata": {},
   "outputs": [
    {
     "data": {
      "text/plain": [
       "total_bill    1.133213\n",
       "tip           1.465451\n",
       "size          1.447882\n",
       "time_new      0.993335\n",
       "dtype: float64"
      ]
     },
     "execution_count": 565,
     "metadata": {},
     "output_type": "execute_result"
    }
   ],
   "source": [
    "n2_df.skew()"
   ]
  },
  {
   "cell_type": "code",
   "execution_count": 566,
   "id": "63131852",
   "metadata": {},
   "outputs": [],
   "source": [
    "tb=n2_df['total_bill']"
   ]
  },
  {
   "cell_type": "code",
   "execution_count": 567,
   "id": "557e08a5",
   "metadata": {},
   "outputs": [
    {
     "data": {
      "text/plain": [
       "0      16.99\n",
       "1      10.34\n",
       "2      21.01\n",
       "3      23.68\n",
       "4      24.59\n",
       "       ...  \n",
       "239    29.03\n",
       "240    27.18\n",
       "241    22.67\n",
       "242    17.82\n",
       "243    18.78\n",
       "Name: total_bill, Length: 244, dtype: float64"
      ]
     },
     "execution_count": 567,
     "metadata": {},
     "output_type": "execute_result"
    }
   ],
   "source": [
    "tb"
   ]
  },
  {
   "cell_type": "code",
   "execution_count": 568,
   "id": "81eba641",
   "metadata": {},
   "outputs": [],
   "source": [
    "tb_log=np.log1p(tb)"
   ]
  },
  {
   "cell_type": "code",
   "execution_count": 569,
   "id": "e9ef0353",
   "metadata": {},
   "outputs": [
    {
     "data": {
      "text/plain": [
       "0      2.889816\n",
       "1      2.428336\n",
       "2      3.091497\n",
       "3      3.205993\n",
       "4      3.242202\n",
       "         ...   \n",
       "239    3.402197\n",
       "240    3.338613\n",
       "241    3.164208\n",
       "242    2.934920\n",
       "243    2.984671\n",
       "Name: total_bill, Length: 244, dtype: float64"
      ]
     },
     "execution_count": 569,
     "metadata": {},
     "output_type": "execute_result"
    }
   ],
   "source": [
    "tb_log"
   ]
  },
  {
   "cell_type": "code",
   "execution_count": 570,
   "id": "61881106",
   "metadata": {},
   "outputs": [
    {
     "data": {
      "text/plain": [
       "-0.010800869997070795"
      ]
     },
     "execution_count": 570,
     "metadata": {},
     "output_type": "execute_result"
    }
   ],
   "source": [
    "tb_log.skew()"
   ]
  },
  {
   "cell_type": "code",
   "execution_count": 643,
   "id": "49c5877b",
   "metadata": {},
   "outputs": [],
   "source": [
    "tb_sqa=tb**2"
   ]
  },
  {
   "cell_type": "code",
   "execution_count": 644,
   "id": "5895e749",
   "metadata": {},
   "outputs": [
    {
     "data": {
      "text/plain": [
       "0      288.6601\n",
       "1      106.9156\n",
       "2      441.4201\n",
       "3      560.7424\n",
       "4      604.6681\n",
       "         ...   \n",
       "239    842.7409\n",
       "240    738.7524\n",
       "241    513.9289\n",
       "242    317.5524\n",
       "243    352.6884\n",
       "Name: total_bill, Length: 244, dtype: float64"
      ]
     },
     "execution_count": 644,
     "metadata": {},
     "output_type": "execute_result"
    }
   ],
   "source": [
    "tb_sqa"
   ]
  },
  {
   "cell_type": "code",
   "execution_count": 645,
   "id": "d0831dea",
   "metadata": {},
   "outputs": [
    {
     "data": {
      "text/plain": [
       "2.1870296642675506"
      ]
     },
     "execution_count": 645,
     "metadata": {},
     "output_type": "execute_result"
    }
   ],
   "source": [
    "tb_sqa.skew()"
   ]
  },
  {
   "cell_type": "code",
   "execution_count": null,
   "id": "6d21edae",
   "metadata": {},
   "outputs": [],
   "source": []
  },
  {
   "cell_type": "code",
   "execution_count": 640,
   "id": "f0523d9c",
   "metadata": {},
   "outputs": [],
   "source": [
    "tb_sqr=tb**(1/2)"
   ]
  },
  {
   "cell_type": "code",
   "execution_count": 641,
   "id": "faf859e8",
   "metadata": {},
   "outputs": [
    {
     "data": {
      "text/plain": [
       "0      4.121893\n",
       "1      3.215587\n",
       "2      4.583667\n",
       "3      4.866210\n",
       "4      4.958831\n",
       "         ...   \n",
       "239    5.387950\n",
       "240    5.213444\n",
       "241    4.761302\n",
       "242    4.221374\n",
       "243    4.333590\n",
       "Name: total_bill, Length: 244, dtype: float64"
      ]
     },
     "execution_count": 641,
     "metadata": {},
     "output_type": "execute_result"
    }
   ],
   "source": [
    "tb_sqr"
   ]
  },
  {
   "cell_type": "code",
   "execution_count": 642,
   "id": "76f2e80a",
   "metadata": {},
   "outputs": [
    {
     "data": {
      "text/plain": [
       "0.5661281592596766"
      ]
     },
     "execution_count": 642,
     "metadata": {},
     "output_type": "execute_result"
    }
   ],
   "source": [
    "tb_sqr.skew()"
   ]
  },
  {
   "cell_type": "code",
   "execution_count": null,
   "id": "de52ab08",
   "metadata": {},
   "outputs": [],
   "source": []
  },
  {
   "cell_type": "code",
   "execution_count": 577,
   "id": "69150189",
   "metadata": {},
   "outputs": [],
   "source": [
    "tp=n2_df['tip']"
   ]
  },
  {
   "cell_type": "code",
   "execution_count": 578,
   "id": "f13ca357",
   "metadata": {},
   "outputs": [
    {
     "data": {
      "text/plain": [
       "0      1.01\n",
       "1      1.66\n",
       "2      3.50\n",
       "3      3.31\n",
       "4      3.61\n",
       "       ... \n",
       "239    5.92\n",
       "240    2.00\n",
       "241    2.00\n",
       "242    1.75\n",
       "243    3.00\n",
       "Name: tip, Length: 244, dtype: float64"
      ]
     },
     "execution_count": 578,
     "metadata": {},
     "output_type": "execute_result"
    }
   ],
   "source": [
    "tp"
   ]
  },
  {
   "cell_type": "code",
   "execution_count": 579,
   "id": "4331b745",
   "metadata": {},
   "outputs": [],
   "source": [
    "tp_log=np.log1p(tp)"
   ]
  },
  {
   "cell_type": "code",
   "execution_count": 580,
   "id": "4f887b79",
   "metadata": {},
   "outputs": [
    {
     "data": {
      "text/plain": [
       "0      0.698135\n",
       "1      0.978326\n",
       "2      1.504077\n",
       "3      1.460938\n",
       "4      1.528228\n",
       "         ...   \n",
       "239    1.934416\n",
       "240    1.098612\n",
       "241    1.098612\n",
       "242    1.011601\n",
       "243    1.386294\n",
       "Name: tip, Length: 244, dtype: float64"
      ]
     },
     "execution_count": 580,
     "metadata": {},
     "output_type": "execute_result"
    }
   ],
   "source": [
    "tp_log"
   ]
  },
  {
   "cell_type": "code",
   "execution_count": 581,
   "id": "68ddd32b",
   "metadata": {},
   "outputs": [
    {
     "data": {
      "text/plain": [
       "0.38049444627351625"
      ]
     },
     "execution_count": 581,
     "metadata": {},
     "output_type": "execute_result"
    }
   ],
   "source": [
    "tp_log.skew()"
   ]
  },
  {
   "cell_type": "code",
   "execution_count": 637,
   "id": "94e448e2",
   "metadata": {},
   "outputs": [],
   "source": [
    "tp_sqa=tp**2"
   ]
  },
  {
   "cell_type": "code",
   "execution_count": 638,
   "id": "c80a4add",
   "metadata": {},
   "outputs": [
    {
     "data": {
      "text/plain": [
       "0       1.0201\n",
       "1       2.7556\n",
       "2      12.2500\n",
       "3      10.9561\n",
       "4      13.0321\n",
       "        ...   \n",
       "239    35.0464\n",
       "240     4.0000\n",
       "241     4.0000\n",
       "242     3.0625\n",
       "243     9.0000\n",
       "Name: tip, Length: 244, dtype: float64"
      ]
     },
     "execution_count": 638,
     "metadata": {},
     "output_type": "execute_result"
    }
   ],
   "source": [
    "tp_sqa"
   ]
  },
  {
   "cell_type": "code",
   "execution_count": 639,
   "id": "22edc3fc",
   "metadata": {},
   "outputs": [
    {
     "data": {
      "text/plain": [
       "3.6113786370026335"
      ]
     },
     "execution_count": 639,
     "metadata": {},
     "output_type": "execute_result"
    }
   ],
   "source": [
    "tp_sqa.skew()"
   ]
  },
  {
   "cell_type": "code",
   "execution_count": null,
   "id": "74236ba3",
   "metadata": {},
   "outputs": [],
   "source": []
  },
  {
   "cell_type": "code",
   "execution_count": 634,
   "id": "15ca33d9",
   "metadata": {},
   "outputs": [],
   "source": [
    "tp_sqr=tp**(1/2)"
   ]
  },
  {
   "cell_type": "code",
   "execution_count": 635,
   "id": "dc398dc4",
   "metadata": {},
   "outputs": [
    {
     "data": {
      "text/plain": [
       "0      1.004988\n",
       "1      1.288410\n",
       "2      1.870829\n",
       "3      1.819341\n",
       "4      1.900000\n",
       "         ...   \n",
       "239    2.433105\n",
       "240    1.414214\n",
       "241    1.414214\n",
       "242    1.322876\n",
       "243    1.732051\n",
       "Name: tip, Length: 244, dtype: float64"
      ]
     },
     "execution_count": 635,
     "metadata": {},
     "output_type": "execute_result"
    }
   ],
   "source": [
    "tp_sqr"
   ]
  },
  {
   "cell_type": "code",
   "execution_count": 636,
   "id": "d83d9a97",
   "metadata": {},
   "outputs": [
    {
     "data": {
      "text/plain": [
       "0.705367651802773"
      ]
     },
     "execution_count": 636,
     "metadata": {},
     "output_type": "execute_result"
    }
   ],
   "source": [
    "tp_sqr.skew()"
   ]
  },
  {
   "cell_type": "code",
   "execution_count": null,
   "id": "3439b9f6",
   "metadata": {},
   "outputs": [],
   "source": []
  },
  {
   "cell_type": "code",
   "execution_count": 588,
   "id": "69fd5089",
   "metadata": {},
   "outputs": [],
   "source": [
    "s=n2_df['size']"
   ]
  },
  {
   "cell_type": "code",
   "execution_count": 589,
   "id": "4bb5fceb",
   "metadata": {},
   "outputs": [
    {
     "data": {
      "text/plain": [
       "0      2\n",
       "1      3\n",
       "2      3\n",
       "3      2\n",
       "4      4\n",
       "      ..\n",
       "239    3\n",
       "240    2\n",
       "241    2\n",
       "242    2\n",
       "243    2\n",
       "Name: size, Length: 244, dtype: int64"
      ]
     },
     "execution_count": 589,
     "metadata": {},
     "output_type": "execute_result"
    }
   ],
   "source": [
    "s"
   ]
  },
  {
   "cell_type": "code",
   "execution_count": 590,
   "id": "c1fba947",
   "metadata": {},
   "outputs": [],
   "source": [
    "s_log=np.log1p(s)"
   ]
  },
  {
   "cell_type": "code",
   "execution_count": 591,
   "id": "d9dbf6f8",
   "metadata": {},
   "outputs": [
    {
     "data": {
      "text/plain": [
       "0      1.098612\n",
       "1      1.386294\n",
       "2      1.386294\n",
       "3      1.098612\n",
       "4      1.609438\n",
       "         ...   \n",
       "239    1.386294\n",
       "240    1.098612\n",
       "241    1.098612\n",
       "242    1.098612\n",
       "243    1.098612\n",
       "Name: size, Length: 244, dtype: float64"
      ]
     },
     "execution_count": 591,
     "metadata": {},
     "output_type": "execute_result"
    }
   ],
   "source": [
    "s_log"
   ]
  },
  {
   "cell_type": "code",
   "execution_count": 592,
   "id": "579141a8",
   "metadata": {},
   "outputs": [
    {
     "data": {
      "text/plain": [
       "0.943404713840478"
      ]
     },
     "execution_count": 592,
     "metadata": {},
     "output_type": "execute_result"
    }
   ],
   "source": [
    "s_log.skew()"
   ]
  },
  {
   "cell_type": "code",
   "execution_count": 631,
   "id": "c035796c",
   "metadata": {},
   "outputs": [],
   "source": [
    "s_sqa=s**2"
   ]
  },
  {
   "cell_type": "code",
   "execution_count": 632,
   "id": "7a93ea60",
   "metadata": {},
   "outputs": [
    {
     "data": {
      "text/plain": [
       "0       4\n",
       "1       9\n",
       "2       9\n",
       "3       4\n",
       "4      16\n",
       "       ..\n",
       "239     9\n",
       "240     4\n",
       "241     4\n",
       "242     4\n",
       "243     4\n",
       "Name: size, Length: 244, dtype: int64"
      ]
     },
     "execution_count": 632,
     "metadata": {},
     "output_type": "execute_result"
    }
   ],
   "source": [
    "s_sqa"
   ]
  },
  {
   "cell_type": "code",
   "execution_count": 633,
   "id": "4961f517",
   "metadata": {},
   "outputs": [
    {
     "data": {
      "text/plain": [
       "2.238128646188106"
      ]
     },
     "execution_count": 633,
     "metadata": {},
     "output_type": "execute_result"
    }
   ],
   "source": [
    "s_sqa.skew()"
   ]
  },
  {
   "cell_type": "code",
   "execution_count": null,
   "id": "5c97b32b",
   "metadata": {},
   "outputs": [],
   "source": []
  },
  {
   "cell_type": "code",
   "execution_count": 628,
   "id": "9bcd15ac",
   "metadata": {},
   "outputs": [],
   "source": [
    "s_sqr=s**(1/2)"
   ]
  },
  {
   "cell_type": "code",
   "execution_count": 629,
   "id": "bade9f9e",
   "metadata": {},
   "outputs": [
    {
     "data": {
      "text/plain": [
       "0      1.414214\n",
       "1      1.732051\n",
       "2      1.732051\n",
       "3      1.414214\n",
       "4      2.000000\n",
       "         ...   \n",
       "239    1.732051\n",
       "240    1.414214\n",
       "241    1.414214\n",
       "242    1.414214\n",
       "243    1.414214\n",
       "Name: size, Length: 244, dtype: float64"
      ]
     },
     "execution_count": 629,
     "metadata": {},
     "output_type": "execute_result"
    }
   ],
   "source": [
    "s_sqr"
   ]
  },
  {
   "cell_type": "code",
   "execution_count": 630,
   "id": "b64eeec1",
   "metadata": {},
   "outputs": [
    {
     "data": {
      "text/plain": [
       "1.1016323394959462"
      ]
     },
     "execution_count": 630,
     "metadata": {},
     "output_type": "execute_result"
    }
   ],
   "source": [
    "s_sqr.skew()"
   ]
  },
  {
   "cell_type": "code",
   "execution_count": null,
   "id": "b87c3826",
   "metadata": {},
   "outputs": [],
   "source": []
  },
  {
   "cell_type": "code",
   "execution_count": 599,
   "id": "ac018715",
   "metadata": {},
   "outputs": [],
   "source": [
    "tn=n2_df['time_new']"
   ]
  },
  {
   "cell_type": "code",
   "execution_count": 600,
   "id": "0c89d504",
   "metadata": {},
   "outputs": [
    {
     "data": {
      "text/plain": [
       "0      0\n",
       "1      0\n",
       "2      0\n",
       "3      0\n",
       "4      0\n",
       "      ..\n",
       "239    0\n",
       "240    0\n",
       "241    0\n",
       "242    0\n",
       "243    0\n",
       "Name: time_new, Length: 244, dtype: int32"
      ]
     },
     "execution_count": 600,
     "metadata": {},
     "output_type": "execute_result"
    }
   ],
   "source": [
    "tn"
   ]
  },
  {
   "cell_type": "code",
   "execution_count": 601,
   "id": "4efa49a2",
   "metadata": {},
   "outputs": [],
   "source": [
    "tn_log=np.log1p(tn)"
   ]
  },
  {
   "cell_type": "code",
   "execution_count": 602,
   "id": "e6aaa079",
   "metadata": {},
   "outputs": [
    {
     "data": {
      "text/plain": [
       "0      0.0\n",
       "1      0.0\n",
       "2      0.0\n",
       "3      0.0\n",
       "4      0.0\n",
       "      ... \n",
       "239    0.0\n",
       "240    0.0\n",
       "241    0.0\n",
       "242    0.0\n",
       "243    0.0\n",
       "Name: time_new, Length: 244, dtype: float64"
      ]
     },
     "execution_count": 602,
     "metadata": {},
     "output_type": "execute_result"
    }
   ],
   "source": [
    "tn_log"
   ]
  },
  {
   "cell_type": "code",
   "execution_count": 603,
   "id": "0a8a98a2",
   "metadata": {},
   "outputs": [
    {
     "data": {
      "text/plain": [
       "0.9933347968403005"
      ]
     },
     "execution_count": 603,
     "metadata": {},
     "output_type": "execute_result"
    }
   ],
   "source": [
    "tn_log.skew()"
   ]
  },
  {
   "cell_type": "code",
   "execution_count": 626,
   "id": "b0255086",
   "metadata": {},
   "outputs": [],
   "source": [
    "tn_sqa=tn**2"
   ]
  },
  {
   "cell_type": "code",
   "execution_count": 627,
   "id": "71770b96",
   "metadata": {},
   "outputs": [
    {
     "data": {
      "text/plain": [
       "0      0\n",
       "1      0\n",
       "2      0\n",
       "3      0\n",
       "4      0\n",
       "      ..\n",
       "239    0\n",
       "240    0\n",
       "241    0\n",
       "242    0\n",
       "243    0\n",
       "Name: time_new, Length: 244, dtype: int32"
      ]
     },
     "execution_count": 627,
     "metadata": {},
     "output_type": "execute_result"
    }
   ],
   "source": [
    "tn_sqa"
   ]
  },
  {
   "cell_type": "code",
   "execution_count": 624,
   "id": "28b62aee",
   "metadata": {},
   "outputs": [
    {
     "data": {
      "text/plain": [
       "0.9933347968403005"
      ]
     },
     "execution_count": 624,
     "metadata": {},
     "output_type": "execute_result"
    }
   ],
   "source": [
    "tn_sqa.skew()"
   ]
  },
  {
   "cell_type": "code",
   "execution_count": null,
   "id": "70e9746d",
   "metadata": {},
   "outputs": [],
   "source": []
  },
  {
   "cell_type": "code",
   "execution_count": 625,
   "id": "0356eefc",
   "metadata": {},
   "outputs": [],
   "source": [
    "tn_sqr=tn**(1/2)"
   ]
  },
  {
   "cell_type": "code",
   "execution_count": 608,
   "id": "61c22790",
   "metadata": {},
   "outputs": [
    {
     "data": {
      "text/plain": [
       "0      0.0\n",
       "1      0.0\n",
       "2      0.0\n",
       "3      0.0\n",
       "4      0.0\n",
       "      ... \n",
       "239    0.0\n",
       "240    0.0\n",
       "241    0.0\n",
       "242    0.0\n",
       "243    0.0\n",
       "Name: time_new, Length: 244, dtype: float64"
      ]
     },
     "execution_count": 608,
     "metadata": {},
     "output_type": "execute_result"
    }
   ],
   "source": [
    "tn_sqr"
   ]
  },
  {
   "cell_type": "code",
   "execution_count": 609,
   "id": "bd0afd21",
   "metadata": {},
   "outputs": [
    {
     "data": {
      "text/plain": [
       "0.9933347968403005"
      ]
     },
     "execution_count": 609,
     "metadata": {},
     "output_type": "execute_result"
    }
   ],
   "source": [
    "tn_sqr.skew()"
   ]
  },
  {
   "cell_type": "code",
   "execution_count": null,
   "id": "d690a681",
   "metadata": {},
   "outputs": [],
   "source": []
  },
  {
   "cell_type": "code",
   "execution_count": 610,
   "id": "8aebf67e",
   "metadata": {},
   "outputs": [],
   "source": [
    "n3_df=pd.concat([tb_log,tp_log,s_log,tn_log],axis=1)"
   ]
  },
  {
   "cell_type": "code",
   "execution_count": 611,
   "id": "c3871549",
   "metadata": {},
   "outputs": [
    {
     "data": {
      "text/html": [
       "<div>\n",
       "<style scoped>\n",
       "    .dataframe tbody tr th:only-of-type {\n",
       "        vertical-align: middle;\n",
       "    }\n",
       "\n",
       "    .dataframe tbody tr th {\n",
       "        vertical-align: top;\n",
       "    }\n",
       "\n",
       "    .dataframe thead th {\n",
       "        text-align: right;\n",
       "    }\n",
       "</style>\n",
       "<table border=\"1\" class=\"dataframe\">\n",
       "  <thead>\n",
       "    <tr style=\"text-align: right;\">\n",
       "      <th></th>\n",
       "      <th>total_bill</th>\n",
       "      <th>tip</th>\n",
       "      <th>size</th>\n",
       "      <th>time_new</th>\n",
       "    </tr>\n",
       "  </thead>\n",
       "  <tbody>\n",
       "    <tr>\n",
       "      <th>0</th>\n",
       "      <td>2.889816</td>\n",
       "      <td>0.698135</td>\n",
       "      <td>1.098612</td>\n",
       "      <td>0.0</td>\n",
       "    </tr>\n",
       "    <tr>\n",
       "      <th>1</th>\n",
       "      <td>2.428336</td>\n",
       "      <td>0.978326</td>\n",
       "      <td>1.386294</td>\n",
       "      <td>0.0</td>\n",
       "    </tr>\n",
       "    <tr>\n",
       "      <th>2</th>\n",
       "      <td>3.091497</td>\n",
       "      <td>1.504077</td>\n",
       "      <td>1.386294</td>\n",
       "      <td>0.0</td>\n",
       "    </tr>\n",
       "    <tr>\n",
       "      <th>3</th>\n",
       "      <td>3.205993</td>\n",
       "      <td>1.460938</td>\n",
       "      <td>1.098612</td>\n",
       "      <td>0.0</td>\n",
       "    </tr>\n",
       "    <tr>\n",
       "      <th>4</th>\n",
       "      <td>3.242202</td>\n",
       "      <td>1.528228</td>\n",
       "      <td>1.609438</td>\n",
       "      <td>0.0</td>\n",
       "    </tr>\n",
       "    <tr>\n",
       "      <th>...</th>\n",
       "      <td>...</td>\n",
       "      <td>...</td>\n",
       "      <td>...</td>\n",
       "      <td>...</td>\n",
       "    </tr>\n",
       "    <tr>\n",
       "      <th>239</th>\n",
       "      <td>3.402197</td>\n",
       "      <td>1.934416</td>\n",
       "      <td>1.386294</td>\n",
       "      <td>0.0</td>\n",
       "    </tr>\n",
       "    <tr>\n",
       "      <th>240</th>\n",
       "      <td>3.338613</td>\n",
       "      <td>1.098612</td>\n",
       "      <td>1.098612</td>\n",
       "      <td>0.0</td>\n",
       "    </tr>\n",
       "    <tr>\n",
       "      <th>241</th>\n",
       "      <td>3.164208</td>\n",
       "      <td>1.098612</td>\n",
       "      <td>1.098612</td>\n",
       "      <td>0.0</td>\n",
       "    </tr>\n",
       "    <tr>\n",
       "      <th>242</th>\n",
       "      <td>2.934920</td>\n",
       "      <td>1.011601</td>\n",
       "      <td>1.098612</td>\n",
       "      <td>0.0</td>\n",
       "    </tr>\n",
       "    <tr>\n",
       "      <th>243</th>\n",
       "      <td>2.984671</td>\n",
       "      <td>1.386294</td>\n",
       "      <td>1.098612</td>\n",
       "      <td>0.0</td>\n",
       "    </tr>\n",
       "  </tbody>\n",
       "</table>\n",
       "<p>244 rows × 4 columns</p>\n",
       "</div>"
      ],
      "text/plain": [
       "     total_bill       tip      size  time_new\n",
       "0      2.889816  0.698135  1.098612       0.0\n",
       "1      2.428336  0.978326  1.386294       0.0\n",
       "2      3.091497  1.504077  1.386294       0.0\n",
       "3      3.205993  1.460938  1.098612       0.0\n",
       "4      3.242202  1.528228  1.609438       0.0\n",
       "..          ...       ...       ...       ...\n",
       "239    3.402197  1.934416  1.386294       0.0\n",
       "240    3.338613  1.098612  1.098612       0.0\n",
       "241    3.164208  1.098612  1.098612       0.0\n",
       "242    2.934920  1.011601  1.098612       0.0\n",
       "243    2.984671  1.386294  1.098612       0.0\n",
       "\n",
       "[244 rows x 4 columns]"
      ]
     },
     "execution_count": 611,
     "metadata": {},
     "output_type": "execute_result"
    }
   ],
   "source": [
    "n3_df"
   ]
  },
  {
   "cell_type": "code",
   "execution_count": null,
   "id": "37d41f4b",
   "metadata": {},
   "outputs": [],
   "source": []
  },
  {
   "cell_type": "code",
   "execution_count": 612,
   "id": "6f534d49",
   "metadata": {},
   "outputs": [],
   "source": [
    "x=n3_df.drop(['tip'],axis=1)"
   ]
  },
  {
   "cell_type": "code",
   "execution_count": 613,
   "id": "67d41677",
   "metadata": {},
   "outputs": [],
   "source": [
    "y=n3_df['tip']"
   ]
  },
  {
   "cell_type": "code",
   "execution_count": 614,
   "id": "978b95c2",
   "metadata": {},
   "outputs": [],
   "source": [
    "x_train,x_test,y_train,y_test=train_test_split(x,y,test_size=0.30,random_state=42)"
   ]
  },
  {
   "cell_type": "code",
   "execution_count": 615,
   "id": "0aeb7cd9",
   "metadata": {},
   "outputs": [],
   "source": [
    "re_train=re.fit(x_train,y_train)"
   ]
  },
  {
   "cell_type": "code",
   "execution_count": 616,
   "id": "d0c8ff03",
   "metadata": {},
   "outputs": [],
   "source": [
    "pred=re_train.predict(x_test)"
   ]
  },
  {
   "cell_type": "code",
   "execution_count": 617,
   "id": "c3431fdb",
   "metadata": {},
   "outputs": [
    {
     "data": {
      "text/plain": [
       "(array([1.33208696, 0.98089205, 1.56295141, 1.58667879, 1.17861707,\n",
       "        1.28693122, 1.52363814, 1.16104789, 1.20343078, 1.22075282,\n",
       "        1.29665764, 1.06733912, 1.09332409, 1.19452117, 0.96180013,\n",
       "        1.41224521, 1.41389667, 1.36975512, 1.25012525, 1.87498123,\n",
       "        1.48692578, 1.42673153, 1.18939543, 1.01654518, 1.43206083,\n",
       "        1.13301495, 1.04718941, 1.44019097, 1.38702475, 1.95629628,\n",
       "        1.70075794, 0.92917987, 1.42079794, 1.34244897, 1.34025462,\n",
       "        1.58507495, 1.1145461 , 1.8471564 , 1.18389187, 1.3916382 ,\n",
       "        1.05697049, 1.22646077, 1.41608425, 1.12615333, 1.0808053 ,\n",
       "        0.46660526, 1.06018558, 1.3826837 , 0.95026208, 1.15706726,\n",
       "        1.42199976, 1.47423677, 1.67762323, 1.26819334, 1.32467076,\n",
       "        1.17961067, 0.90239827, 1.28520794, 1.3476857 , 1.30595477,\n",
       "        1.69893065, 1.27245572, 1.40440386, 1.27605404, 1.34113897,\n",
       "        1.35598528, 1.21014752, 0.79457862, 1.53927019, 1.50306863,\n",
       "        1.46680758, 1.67262027, 1.30269015, 1.3282813 ]),\n",
       " 24     1.430311\n",
       " 6      1.098612\n",
       " 153    1.098612\n",
       " 211    1.818077\n",
       " 198    1.098612\n",
       "          ...   \n",
       " 165    1.499623\n",
       " 154    1.098612\n",
       " 216    1.386294\n",
       " 79     1.311032\n",
       " 29     1.386294\n",
       " Name: tip, Length: 74, dtype: float64)"
      ]
     },
     "execution_count": 617,
     "metadata": {},
     "output_type": "execute_result"
    }
   ],
   "source": [
    "pred,y_test"
   ]
  },
  {
   "cell_type": "code",
   "execution_count": 618,
   "id": "e578451b",
   "metadata": {},
   "outputs": [
    {
     "data": {
      "text/plain": [
       "41.09636245964124"
      ]
     },
     "execution_count": 618,
     "metadata": {},
     "output_type": "execute_result"
    }
   ],
   "source": [
    "r2_score(y_test,pred)*100"
   ]
  },
  {
   "cell_type": "code",
   "execution_count": 619,
   "id": "b8583462",
   "metadata": {},
   "outputs": [
    {
     "data": {
      "text/plain": [
       "5.11601346021024"
      ]
     },
     "execution_count": 619,
     "metadata": {},
     "output_type": "execute_result"
    }
   ],
   "source": [
    "mean_squared_error(y_test, pred)*100"
   ]
  },
  {
   "cell_type": "code",
   "execution_count": 620,
   "id": "60ba7eac",
   "metadata": {},
   "outputs": [
    {
     "name": "stdout",
     "output_type": "stream",
     "text": [
      "<class 'pandas.core.frame.DataFrame'>\n",
      "RangeIndex: 244 entries, 0 to 243\n",
      "Data columns (total 4 columns):\n",
      " #   Column      Non-Null Count  Dtype  \n",
      "---  ------      --------------  -----  \n",
      " 0   total_bill  244 non-null    float64\n",
      " 1   tip         244 non-null    float64\n",
      " 2   size        244 non-null    float64\n",
      " 3   time_new    244 non-null    float64\n",
      "dtypes: float64(4)\n",
      "memory usage: 7.8 KB\n"
     ]
    }
   ],
   "source": [
    "n3_df.info()"
   ]
  },
  {
   "cell_type": "code",
   "execution_count": 621,
   "id": "d0f23b53",
   "metadata": {},
   "outputs": [],
   "source": [
    "#on square root 100%, log 41%, outliers left, scaling left"
   ]
  },
  {
   "cell_type": "code",
   "execution_count": null,
   "id": "3cb96691",
   "metadata": {},
   "outputs": [],
   "source": []
  },
  {
   "cell_type": "code",
   "execution_count": null,
   "id": "a7e23713",
   "metadata": {},
   "outputs": [],
   "source": []
  },
  {
   "cell_type": "code",
   "execution_count": null,
   "id": "6d37a9b5",
   "metadata": {},
   "outputs": [],
   "source": []
  }
 ],
 "metadata": {
  "celltoolbar": "Raw Cell Format",
  "kernelspec": {
   "display_name": "Python 3 (ipykernel)",
   "language": "python",
   "name": "python3"
  },
  "language_info": {
   "codemirror_mode": {
    "name": "ipython",
    "version": 3
   },
   "file_extension": ".py",
   "mimetype": "text/x-python",
   "name": "python",
   "nbconvert_exporter": "python",
   "pygments_lexer": "ipython3",
   "version": "3.10.1"
  }
 },
 "nbformat": 4,
 "nbformat_minor": 5
}
